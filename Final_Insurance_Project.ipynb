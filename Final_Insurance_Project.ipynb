{
 "cells": [
  {
   "cell_type": "markdown",
   "id": "249c4ac9",
   "metadata": {},
   "source": [
    "# Feature Engineering Techniques:"
   ]
  },
  {
   "attachments": {},
   "cell_type": "markdown",
   "id": "33af1a7c",
   "metadata": {},
   "source": [
    "## Objective:\n",
    "\n",
    "The main objective of this project is to study different feature engineering techniques available in order to test the impact that it may have on a particular machine learning algorithm.\n",
    "Feature Engineering has to do with the process in transforming data in something meaniful and representative of a particular problem with the goal of improving the performance of a particular model (Feature) that is being used to analyze the problem (Ozdemir & Susarla 2018, loc 385).\n",
    "\n",
    "Feature engineering is an enormous field that can include some of the following fields:\n",
    "\n",
    "-Feature understanding using domain knowledge\n",
    "\n",
    "-Data Preprocessing\n",
    "\n",
    "-Data Transformation\n",
    "\n",
    "-Feature Selection\n",
    "\n",
    "-Feature Construction\n",
    "\n",
    "-Feature Learning\n",
    "\n",
    "Since it is not possible to cover all available feature engendering techniques, and feature understanding requires a high level of expertise on the field (in order to manually select, discard and create new features). This study will focus on the following techniques:\n",
    "\n",
    "-Preprocessing (mostly dealing with null values, inconsistencies and corrupt data if any)\n",
    "\n",
    "-Feature Improvement (Mostly Scaling)\n",
    "\n",
    "-Resampling imbalanced classes\n",
    "\n",
    "-Feature Selection\n",
    "\n",
    "-Feature Construction\n",
    "\n",
    "-Feature learning\n",
    "\n",
    "In this project, other model improvement techniques such as hyperparameter tunning and the exploration of multiple machine learning models will be kept to a minimum. This will be done in order to have a clearer understanding of the effect of different feature engineering approaches on the models' performance. Additionally, Since the combination of techniques could be endless, they would build upon one another if they manage to improve accuracy."
   ]
  },
  {
   "cell_type": "markdown",
   "id": "c12f0ac0",
   "metadata": {},
   "source": [
    "#### About the dataset:\n",
    "\n",
    "The selected dataset was obtained from Kaggle. It contains information about insurance customers and its timely payment patterns.\n",
    "\n",
    "Three simple machine learning algorithms were used. The algorithm selected for improvement were not be just based on its performance but also on how easy it is to apply different feature engineering techniques on it.\n",
    "\n",
    "Link to the main dataset: https://www.kaggle.com/itssuru/health-insurance-premium-of-customers"
   ]
  },
  {
   "cell_type": "markdown",
   "id": "5516bd61",
   "metadata": {},
   "source": [
    "### Importing main libraries:\n"
   ]
  },
  {
   "cell_type": "code",
   "execution_count": 1,
   "id": "c9137124",
   "metadata": {},
   "outputs": [],
   "source": [
    "from yellowbrick.model_selection import FeatureImportances\n",
    "import pandas as pd\n",
    "import numpy as np\n",
    "import matplotlib.pyplot as plt\n",
    "import seaborn as sns\n",
    "from sklearn.model_selection import train_test_split\n",
    "from sklearn.linear_model import LogisticRegression\n",
    "from sklearn.metrics import accuracy_score\n",
    "from yellowbrick.features import rank2d\n",
    "from yellowbrick.classifier import ClassificationReport\n",
    "from sklearn.neighbors import KNeighborsClassifier\n",
    "from sklearn.preprocessing import StandardScaler\n",
    "from sklearn.preprocessing import MinMaxScaler\n",
    "from sklearn.tree import DecisionTreeClassifier\n",
    "from imblearn.over_sampling import SMOTE, ADASYN, RandomOverSampler\n",
    "from sklearn.feature_selection import RFE\n",
    "import pickle\n",
    "from sklearn.preprocessing import PolynomialFeatures\n",
    "from sklearn.decomposition import PCA\n",
    "from sklearn.discriminant_analysis import LinearDiscriminantAnalysis\n",
    "from sklearn.neural_network import BernoulliRBM\n",
    "from sklearn.feature_selection import RFECV\n",
    "from sklearn.model_selection import KFold"
   ]
  },
  {
   "cell_type": "code",
   "execution_count": 2,
   "id": "willing-newton",
   "metadata": {},
   "outputs": [],
   "source": [
    "# Changing pandas display options:\n",
    "pd.set_option('max_columns',5) "
   ]
  },
  {
   "cell_type": "markdown",
   "id": "chubby-disposal",
   "metadata": {},
   "source": [
    "## 1. Importing Data:"
   ]
  },
  {
   "cell_type": "code",
   "execution_count": 3,
   "id": "mineral-clone",
   "metadata": {},
   "outputs": [],
   "source": [
    "Insurance_data = pd.read_csv('Insurance.csv')"
   ]
  },
  {
   "cell_type": "markdown",
   "id": "alpine-aberdeen",
   "metadata": {},
   "source": [
    "## 2. Eploratory data analysis"
   ]
  },
  {
   "cell_type": "code",
   "execution_count": 4,
   "id": "hidden-temperature",
   "metadata": {},
   "outputs": [
    {
     "data": {
      "text/html": [
       "<div>\n",
       "<style scoped>\n",
       "    .dataframe tbody tr th:only-of-type {\n",
       "        vertical-align: middle;\n",
       "    }\n",
       "\n",
       "    .dataframe tbody tr th {\n",
       "        vertical-align: top;\n",
       "    }\n",
       "\n",
       "    .dataframe thead th {\n",
       "        text-align: right;\n",
       "    }\n",
       "</style>\n",
       "<table border=\"1\" class=\"dataframe\">\n",
       "  <thead>\n",
       "    <tr style=\"text-align: right;\">\n",
       "      <th></th>\n",
       "      <th>id</th>\n",
       "      <th>perc_premium_paid_by_cash_credit</th>\n",
       "      <th>...</th>\n",
       "      <th>premium</th>\n",
       "      <th>target</th>\n",
       "    </tr>\n",
       "  </thead>\n",
       "  <tbody>\n",
       "    <tr>\n",
       "      <th>0</th>\n",
       "      <td>110936</td>\n",
       "      <td>0.429</td>\n",
       "      <td>...</td>\n",
       "      <td>3300</td>\n",
       "      <td>1</td>\n",
       "    </tr>\n",
       "    <tr>\n",
       "      <th>1</th>\n",
       "      <td>41492</td>\n",
       "      <td>0.010</td>\n",
       "      <td>...</td>\n",
       "      <td>18000</td>\n",
       "      <td>1</td>\n",
       "    </tr>\n",
       "    <tr>\n",
       "      <th>2</th>\n",
       "      <td>31300</td>\n",
       "      <td>0.917</td>\n",
       "      <td>...</td>\n",
       "      <td>3300</td>\n",
       "      <td>0</td>\n",
       "    </tr>\n",
       "    <tr>\n",
       "      <th>3</th>\n",
       "      <td>19415</td>\n",
       "      <td>0.049</td>\n",
       "      <td>...</td>\n",
       "      <td>9600</td>\n",
       "      <td>1</td>\n",
       "    </tr>\n",
       "    <tr>\n",
       "      <th>4</th>\n",
       "      <td>99379</td>\n",
       "      <td>0.052</td>\n",
       "      <td>...</td>\n",
       "      <td>9600</td>\n",
       "      <td>1</td>\n",
       "    </tr>\n",
       "  </tbody>\n",
       "</table>\n",
       "<p>5 rows × 13 columns</p>\n",
       "</div>"
      ],
      "text/plain": [
       "       id  perc_premium_paid_by_cash_credit  ...  premium  target\n",
       "0  110936                             0.429  ...     3300       1\n",
       "1   41492                             0.010  ...    18000       1\n",
       "2   31300                             0.917  ...     3300       0\n",
       "3   19415                             0.049  ...     9600       1\n",
       "4   99379                             0.052  ...     9600       1\n",
       "\n",
       "[5 rows x 13 columns]"
      ]
     },
     "execution_count": 4,
     "metadata": {},
     "output_type": "execute_result"
    }
   ],
   "source": [
    "# taking a glimpse of the data.\n",
    "Insurance_data.head(5)"
   ]
  },
  {
   "cell_type": "code",
   "execution_count": 5,
   "id": "suitable-transfer",
   "metadata": {},
   "outputs": [
    {
     "name": "stdout",
     "output_type": "stream",
     "text": [
      "<class 'pandas.core.frame.DataFrame'>\n",
      "RangeIndex: 79853 entries, 0 to 79852\n",
      "Data columns (total 13 columns):\n",
      " #   Column                            Non-Null Count  Dtype  \n",
      "---  ------                            --------------  -----  \n",
      " 0   id                                79853 non-null  int64  \n",
      " 1   perc_premium_paid_by_cash_credit  79853 non-null  float64\n",
      " 2   age_in_days                       79853 non-null  int64  \n",
      " 3   Income                            79853 non-null  int64  \n",
      " 4   Count_3-6_months_late             79756 non-null  float64\n",
      " 5   Count_6-12_months_late            79756 non-null  float64\n",
      " 6   Count_more_than_12_months_late    79756 non-null  float64\n",
      " 7   application_underwriting_score    76879 non-null  float64\n",
      " 8   no_of_premiums_paid               79853 non-null  int64  \n",
      " 9   sourcing_channel                  79853 non-null  object \n",
      " 10  residence_area_type               79853 non-null  object \n",
      " 11  premium                           79853 non-null  int64  \n",
      " 12  target                            79853 non-null  int64  \n",
      "dtypes: float64(5), int64(6), object(2)\n",
      "memory usage: 7.9+ MB\n"
     ]
    }
   ],
   "source": [
    "Insurance_data.info()"
   ]
  },
  {
   "cell_type": "markdown",
   "id": "05cecab4",
   "metadata": {},
   "source": [
    "The \"target\" variable is a binary variable that tells if customers paid (1) or did not pay(0) their premiums on time "
   ]
  },
  {
   "cell_type": "code",
   "execution_count": 6,
   "id": "923bdbe1",
   "metadata": {},
   "outputs": [],
   "source": [
    "# Consulted:\n",
    "\n",
    "# https://pandas.pydata.org/pandas-docs/stable/reference/api/pandas.DataFrame.dropna.html\n",
    "# https://www.geeksforgeeks.org/python-pandas-isnull-and-notnull/\n",
    "# https://pandas.pydata.org/docs/reference/api/pandas.DataFrame.drop_duplicates.html"
   ]
  },
  {
   "cell_type": "markdown",
   "id": "307b7224",
   "metadata": {},
   "source": [
    "### Checking for multicollinearity between variables:\n",
    "\n",
    "Independently if a model gets harmed by multicolinearity, for instance, logistic regression,highly correlated features will be removed in order to avoid redundancy and save computation time. Features with a correlation higher than 0.8 will be eliminated.\n",
    "\n",
    "Consulted: https://www.statisticssolutions.com/assumptions-of-logistic-regression/\n",
    "\n"
   ]
  },
  {
   "cell_type": "markdown",
   "id": "ea116882",
   "metadata": {},
   "source": [
    "##### Creating a pairplot to visualize the continuous features:\n",
    "\n",
    "Identifying highly correlated features. Although not dealing with multiple regression, it is good to keep things as simple as possible\n"
   ]
  },
  {
   "cell_type": "code",
   "execution_count": 7,
   "id": "expanded-mistake",
   "metadata": {},
   "outputs": [
    {
     "data": {
      "text/plain": [
       "<AxesSubplot:>"
      ]
     },
     "execution_count": 7,
     "metadata": {},
     "output_type": "execute_result"
    },
    {
     "data": {
      "image/png": "[encoded data removed]",
      "text/plain": [
       "<Figure size 792x648 with 2 Axes>"
      ]
     },
     "metadata": {},
     "output_type": "display_data"
    }
   ],
   "source": [
    "Insurance_data_continuous = Insurance_data.iloc[:,[0,1,2,3,4,7]]\n",
    "\n",
    "corr = Insurance_data_continuous.corr()\n",
    "mask = np.triu(np.ones_like(corr, dtype=bool))\n",
    "f, ax = plt.subplots(figsize=(11, 9))\n",
    "cmap = sns.diverging_palette(500, 500, as_cmap=True)\n",
    "sns.heatmap(corr, mask=mask, cmap = cmap)\n",
    "\n",
    "# consulted: https://towardsdatascience.com/the-curse-of-dimensionality-50dc6e49aa1e\n",
    "# Gareth James, Trevor Hastie, Robert Tibshirani, Daniella Witten Introduction to statistical learning\n",
    "# https://seaborn.pydata.org/examples/many_pairwise_correlations.html\n"
   ]
  },
  {
   "cell_type": "code",
   "execution_count": 8,
   "id": "stupid-microwave",
   "metadata": {},
   "outputs": [
    {
     "name": "stdout",
     "output_type": "stream",
     "text": [
      "Fortunately, no continuous feature is highly correlated with each other\n"
     ]
    }
   ],
   "source": [
    "print('Fortunately, no continuous feature is highly correlated with each other')"
   ]
  },
  {
   "cell_type": "markdown",
   "id": "978c2cf4",
   "metadata": {},
   "source": [
    "## 3. Data Preprocessing:\n",
    "\n",
    "In this step, the only operations was to check for null and empy string values. The data is very clean. \n"
   ]
  },
  {
   "cell_type": "code",
   "execution_count": 9,
   "id": "noble-metadata",
   "metadata": {},
   "outputs": [
    {
     "name": "stdout",
     "output_type": "stream",
     "text": [
      "No NaNs?:  True\n",
      "\n"
     ]
    }
   ],
   "source": [
    "# Dealing with missing values and duplicates\n",
    "\n",
    "Insurance_data.drop_duplicates(inplace = True)\n",
    "\n",
    "nan = float(\"NaN\") \n",
    "Insurance_data.replace(\"\", nan, inplace=True) # blank values present\n",
    "\n",
    "\n",
    "# source:  https://www.kite.com/python/answers/how-to-drop-empty-rows-from-a-pandas-dataframe-in-python\n",
    "\n",
    "Insurance_data.dropna( inplace = True)\n",
    "print(f'No NaNs?:  {all(Insurance_data.notnull())}\\n') \n"
   ]
  },
  {
   "cell_type": "code",
   "execution_count": 10,
   "id": "offensive-merchant",
   "metadata": {},
   "outputs": [
    {
     "data": {
      "text/html": [
       "<div>\n",
       "<style scoped>\n",
       "    .dataframe tbody tr th:only-of-type {\n",
       "        vertical-align: middle;\n",
       "    }\n",
       "\n",
       "    .dataframe tbody tr th {\n",
       "        vertical-align: top;\n",
       "    }\n",
       "\n",
       "    .dataframe thead th {\n",
       "        text-align: right;\n",
       "    }\n",
       "</style>\n",
       "<table border=\"1\" class=\"dataframe\">\n",
       "  <thead>\n",
       "    <tr style=\"text-align: right;\">\n",
       "      <th></th>\n",
       "      <th>id</th>\n",
       "      <th>perc_premium_paid_by_cash_credit</th>\n",
       "      <th>...</th>\n",
       "      <th>premium</th>\n",
       "      <th>target</th>\n",
       "    </tr>\n",
       "  </thead>\n",
       "  <tbody>\n",
       "    <tr>\n",
       "      <th>0</th>\n",
       "      <td>110936</td>\n",
       "      <td>0.429</td>\n",
       "      <td>...</td>\n",
       "      <td>3300</td>\n",
       "      <td>1</td>\n",
       "    </tr>\n",
       "    <tr>\n",
       "      <th>1</th>\n",
       "      <td>41492</td>\n",
       "      <td>0.010</td>\n",
       "      <td>...</td>\n",
       "      <td>18000</td>\n",
       "      <td>1</td>\n",
       "    </tr>\n",
       "    <tr>\n",
       "      <th>2</th>\n",
       "      <td>31300</td>\n",
       "      <td>0.917</td>\n",
       "      <td>...</td>\n",
       "      <td>3300</td>\n",
       "      <td>0</td>\n",
       "    </tr>\n",
       "    <tr>\n",
       "      <th>3</th>\n",
       "      <td>19415</td>\n",
       "      <td>0.049</td>\n",
       "      <td>...</td>\n",
       "      <td>9600</td>\n",
       "      <td>1</td>\n",
       "    </tr>\n",
       "    <tr>\n",
       "      <th>4</th>\n",
       "      <td>99379</td>\n",
       "      <td>0.052</td>\n",
       "      <td>...</td>\n",
       "      <td>9600</td>\n",
       "      <td>1</td>\n",
       "    </tr>\n",
       "  </tbody>\n",
       "</table>\n",
       "<p>5 rows × 13 columns</p>\n",
       "</div>"
      ],
      "text/plain": [
       "       id  perc_premium_paid_by_cash_credit  ...  premium  target\n",
       "0  110936                             0.429  ...     3300       1\n",
       "1   41492                             0.010  ...    18000       1\n",
       "2   31300                             0.917  ...     3300       0\n",
       "3   19415                             0.049  ...     9600       1\n",
       "4   99379                             0.052  ...     9600       1\n",
       "\n",
       "[5 rows x 13 columns]"
      ]
     },
     "execution_count": 10,
     "metadata": {},
     "output_type": "execute_result"
    }
   ],
   "source": [
    "Insurance_data.head(5)"
   ]
  },
  {
   "cell_type": "code",
   "execution_count": 11,
   "id": "stretch-government",
   "metadata": {},
   "outputs": [],
   "source": [
    "Insurance_data['Income'] = Insurance_data['Income']/1000 # This is done to make the columns more readable since the numbers are big"
   ]
  },
  {
   "cell_type": "markdown",
   "id": "otherwise-plasma",
   "metadata": {},
   "source": [
    "## 4. Model Selection\n",
    "\n",
    "Three models were selected for this project:\n",
    "\n",
    "1. K-Nearest Neighbors \n",
    "\n",
    "2. Logistic regression\n",
    "\n",
    "3. Decision Trees\n",
    "\n",
    "The main idea it is to use simple models. No random forest or other ensemble models were used. The main purpose is to work with the features and the classes, not the models and its respective parameters."
   ]
  },
  {
   "cell_type": "code",
   "execution_count": 12,
   "id": "difficult-language",
   "metadata": {},
   "outputs": [],
   "source": [
    "y = Insurance_data.iloc[:,[-1]]\n",
    "X = Insurance_data.iloc[:,1:-2]"
   ]
  },
  {
   "cell_type": "code",
   "execution_count": 13,
   "id": "sought-edmonton",
   "metadata": {},
   "outputs": [],
   "source": [
    "### Encoding Nominal features:\n",
    "\n",
    "nominal = X[['sourcing_channel','residence_area_type']]\n",
    "nominal.columns\n",
    "dummies = pd.concat([pd.get_dummies(X[i], dtype = int) for i in nominal.columns], axis = 1)\n",
    "\n",
    "\n",
    "X = pd.concat([X.reset_index(drop = True), dummies.reset_index(drop = True)], axis = 1)\n",
    "\n",
    "# consulted: https://pandas.pydata.org/docs/reference/api/pandas.DataFrame.drop.html\n",
    "# https://pandas.pydata.org/docs/reference/api/pandas.concat.html\n",
    "# https://pandas.pydata.org/docs/reference/api/pandas.get_dummies.html"
   ]
  },
  {
   "cell_type": "code",
   "execution_count": 14,
   "id": "insured-proxy",
   "metadata": {},
   "outputs": [],
   "source": [
    "X.drop(['sourcing_channel','residence_area_type'], axis = 1, inplace = True)"
   ]
  },
  {
   "cell_type": "code",
   "execution_count": 15,
   "id": "dominant-campbell",
   "metadata": {},
   "outputs": [
    {
     "data": {
      "text/plain": [
       "False"
      ]
     },
     "execution_count": 15,
     "metadata": {},
     "output_type": "execute_result"
    }
   ],
   "source": [
    "np.any(np.isnan(X))"
   ]
  },
  {
   "cell_type": "markdown",
   "id": "offensive-corner",
   "metadata": {},
   "source": [
    "## 4.1 Preliminary Models\n",
    "\n",
    "Here, Preliminary models will be fitted and predicted using simple hyperparameter tuning for some of the models.\n",
    "\n",
    "Feature improvement techniques such as scaling were only used in models that required it.\n",
    "\n"
   ]
  },
  {
   "cell_type": "code",
   "execution_count": 16,
   "id": "b9f9eb54",
   "metadata": {},
   "outputs": [],
   "source": [
    "# Creating an empty dictionary to to store accuracies later.\n",
    "Accuracies_KNN = {}\n",
    "Accuracies_Log = {}\n",
    "Accuracies_Tree = {}"
   ]
  },
  {
   "cell_type": "markdown",
   "id": "administrative-bleeding",
   "metadata": {},
   "source": [
    "### Logistic regression"
   ]
  },
  {
   "cell_type": "code",
   "execution_count": 17,
   "id": "australian-keyboard",
   "metadata": {},
   "outputs": [],
   "source": [
    "X_train_l, X_test_l, y_train_l, y_test_l = train_test_split(X, y, test_size=0.30, random_state=56)\n",
    "\n",
    "y_train_l = np.ravel(y_train_l)\n",
    "\n",
    "# consulted: https://scikit-learn.org/stable/modules/generated/sklearn.model_selection.train_test_split.html\n",
    "\n",
    "log_clf = LogisticRegression(max_iter = 200, n_jobs = -1)\n",
    "log_clf.fit(X_train_l, y_train_l)\n",
    "y_predict_l = log_clf.predict(X_test_l) \n",
    "accuracy_log = round(accuracy_score(y_test_l, y_predict_l)*100,3)"
   ]
  },
  {
   "cell_type": "code",
   "execution_count": 18,
   "id": "injured-delivery",
   "metadata": {},
   "outputs": [
    {
     "name": "stdout",
     "output_type": "stream",
     "text": [
      "Accuracy for Logistic Regression Classifier 93.815 %\n"
     ]
    }
   ],
   "source": [
    "print(f'Accuracy for Logistic Regression Classifier {accuracy_log} %')\n",
    "Accuracies_Log['Original'] = accuracy_log"
   ]
  },
  {
   "cell_type": "code",
   "execution_count": 19,
   "id": "institutional-husband",
   "metadata": {},
   "outputs": [
    {
     "data": {
      "image/png": "[encoded data removed]",
      "text/plain": [
       "<Figure size 576x396 with 2 Axes>"
      ]
     },
     "metadata": {},
     "output_type": "display_data"
    },
    {
     "data": {
      "text/plain": [
       "<AxesSubplot:title={'center':'LogisticRegression Classification Report'}>"
      ]
     },
     "execution_count": 19,
     "metadata": {},
     "output_type": "execute_result"
    }
   ],
   "source": [
    "visualizer = ClassificationReport(log_clf, classes=['On time','Late'], support=True)\n",
    "\n",
    "visualizer.fit(X_train_l, y_train_l)        \n",
    "visualizer.score(X_test_l, y_test_l)        \n",
    "visualizer.show()                 \n",
    "\n",
    "# source : https://www.scikit-yb.org/en/latest/api/classifier/classification_report.html\n"
   ]
  },
  {
   "cell_type": "markdown",
   "id": "rapid-playing",
   "metadata": {},
   "source": [
    "### KNN"
   ]
  },
  {
   "cell_type": "code",
   "execution_count": 20,
   "id": "normal-mention",
   "metadata": {},
   "outputs": [],
   "source": [
    "X_train_k, X_test_k, y_train_k, y_test_k = train_test_split(X, y, test_size=0.30, random_state=156)\n",
    "\n",
    "y_train_k = np.ravel(y_train_k)"
   ]
  },
  {
   "cell_type": "markdown",
   "id": "chemical-filling",
   "metadata": {},
   "source": [
    "### Scaling data. Creating an alternative dataset for KNN\n",
    "\n",
    "Two types of scaling were used:\n",
    "\n",
    "Min-Max Scaling with -1 to 1 and Standarization(Z-score). \n"
   ]
  },
  {
   "cell_type": "markdown",
   "id": "decreased-pierre",
   "metadata": {},
   "source": [
    "#### Before Scaling:"
   ]
  },
  {
   "cell_type": "code",
   "execution_count": 21,
   "id": "consecutive-study",
   "metadata": {},
   "outputs": [
    {
     "data": {
      "image/png": "[encoded data removed]",
      "text/plain": [
       "<Figure size 576x396 with 1 Axes>"
      ]
     },
     "metadata": {},
     "output_type": "display_data"
    }
   ],
   "source": [
    "cols2 = pd.DataFrame(X_train_k)\n",
    "cols2 = list(cols2.columns)\n",
    "color = dict(boxes='blue', whiskers='DarkOrange', medians='black', caps='Gray')\n",
    "title = 'Features Before Scaling'\n",
    "\n",
    "#boxplot = X_train_k.boxplot(column = cols2, rot=90, fontsize=10, color = color, sym='r+')\n",
    "\n",
    "ax = sns.boxplot(data=X, orient=\"v\", color = 'green')\n",
    "ax.set_xticklabels(cols2,rotation=90)\n",
    "plt.title('Features values before scaling')\n",
    "plt.show()\n",
    "\n",
    "# consulted: https://seaborn.pydata.org/generated/seaborn.boxplot.html\n",
    "# https://stackoverflow.com/questions/26540035/rotate-label-text-in-seaborn-factorplot\n",
    "# https://pandas.pydata.org/docs/reference/api/pandas.DataFrame.boxplot.html\n",
    "# https://pandas.pydata.org/pandas-docs/version/0.15.0/visualization.html#visualization-box"
   ]
  },
  {
   "cell_type": "markdown",
   "id": "artistic-evanescence",
   "metadata": {},
   "source": [
    "#### After Scaling:\n"
   ]
  },
  {
   "cell_type": "markdown",
   "id": "derived-croatia",
   "metadata": {},
   "source": [
    "##### MinmaxScaling"
   ]
  },
  {
   "cell_type": "code",
   "execution_count": 22,
   "id": "original-hunter",
   "metadata": {},
   "outputs": [
    {
     "data": {
      "image/png": "[encoded data removed]",
      "text/plain": [
       "<Figure size 576x396 with 1 Axes>"
      ]
     },
     "metadata": {},
     "output_type": "display_data"
    }
   ],
   "source": [
    "minmax_scaler =  MinMaxScaler(feature_range=(0, 1)) \n",
    "minmax_scaler.fit(X_train_k)\n",
    "X_train_minmax = minmax_scaler.transform(X_train_k)\n",
    "X_train_minmax = pd.DataFrame(X_train_minmax)\n",
    "X_train_minmax.columns = X_train_k.columns\n",
    "#ax = sns.boxplot(data=X_train_minmax, orient=\"h\")\n",
    "\n",
    "cols2 = pd.DataFrame(X_train_minmax)\n",
    "cols2 = list(X_train_k.columns)\n",
    "\n",
    "#boxplot = X_train_minmax.boxplot(column = cols2, rot=90, fontsize=10)\n",
    "\n",
    "X_test_minmax = minmax_scaler.transform(X_test_k)\n",
    "\n",
    "\n",
    "ax = sns.boxplot(data=X_train_minmax, orient=\"v\", color = 'green')\n",
    "ax.set_xticklabels(cols2,rotation=90)\n",
    "plt.title('Features values after minmax-scaling')\n",
    "plt.show()\n"
   ]
  },
  {
   "cell_type": "markdown",
   "id": "impossible-intention",
   "metadata": {},
   "source": [
    "#### Running the model with minmax scaling:"
   ]
  },
  {
   "cell_type": "code",
   "execution_count": 23,
   "id": "lonely-neutral",
   "metadata": {},
   "outputs": [],
   "source": [
    "def knn_plot(X_train, X_test, scaling):\n",
    "    \n",
    "    n_neighbors = [i for i in range(3,20,2)]\n",
    "    accuracy = []\n",
    "\n",
    "    for k in n_neighbors:\n",
    "        knn = KNeighborsClassifier(n_neighbors = k, n_jobs = -1)\n",
    "        knn.fit(X_train, y_train_k)\n",
    "        y_predict_k = knn.predict(X_test)\n",
    "        accuracy.append(accuracy_score(y_test_k, y_predict_k)*100)\n",
    "    \n",
    "\n",
    "    plt.plot(n_neighbors, accuracy, linestyle ='dashed', marker = 'o', color = 'green') \n",
    "    plt.xticks(n_neighbors)\n",
    "    plt.title('Accuracies vs number of neighbors')\n",
    "    plt.xlabel('number of neighbors k')\n",
    "    plt.ylabel('Accuracy (in percentage)')\n",
    "\n",
    "    plt.show()\n",
    "    \n",
    "    print(f'List of accuracies:\\n{np.around(accuracy, 3)}\\n') #https://www.kite.com/python/docs/numpy.around\n",
    "    print(f'Optimal Accuracy:\\n{round(max(accuracy),3)}%')\n",
    "    Accuracies_KNN[scaling] = max(accuracy)\n",
    "    \n",
    "    "
   ]
  },
  {
   "cell_type": "code",
   "execution_count": 24,
   "id": "discrete-prayer",
   "metadata": {},
   "outputs": [
    {
     "data": {
      "image/png": "[encoded data removed]",
      "text/plain": [
       "<Figure size 576x396 with 1 Axes>"
      ]
     },
     "metadata": {},
     "output_type": "display_data"
    },
    {
     "name": "stdout",
     "output_type": "stream",
     "text": [
      "List of accuracies:\n",
      "[93.403 93.742 93.893 93.967 93.984 93.941 93.911 93.928 93.902]\n",
      "\n",
      "Optimal Accuracy:\n",
      "93.984%\n"
     ]
    }
   ],
   "source": [
    "knn_plot(X_train_minmax, X_test_minmax, 'Min-Max Scaling')"
   ]
  },
  {
   "cell_type": "code",
   "execution_count": 25,
   "id": "operational-earth",
   "metadata": {},
   "outputs": [
    {
     "data": {
      "image/png": "[encoded data removed]",
      "text/plain": [
       "<Figure size 576x396 with 2 Axes>"
      ]
     },
     "metadata": {},
     "output_type": "display_data"
    },
    {
     "data": {
      "text/plain": [
       "<AxesSubplot:title={'center':'KNeighborsClassifier Classification Report'}>"
      ]
     },
     "execution_count": 25,
     "metadata": {},
     "output_type": "execute_result"
    }
   ],
   "source": [
    "knn = KNeighborsClassifier(n_neighbors = 11)\n",
    "visualizer = ClassificationReport(knn, classes=['On time','Late'], support=True)\n",
    "\n",
    "visualizer.fit(X_train_minmax, y_train_k)        \n",
    "visualizer.score(X_test_minmax, y_test_k)        \n",
    "visualizer.show()                 \n"
   ]
  },
  {
   "cell_type": "markdown",
   "id": "shaped-separate",
   "metadata": {},
   "source": [
    "##### StandardScaling"
   ]
  },
  {
   "cell_type": "code",
   "execution_count": 26,
   "id": "pointed-responsibility",
   "metadata": {},
   "outputs": [
    {
     "data": {
      "image/png": "[encoded data removed]",
      "text/plain": [
       "<Figure size 576x396 with 1 Axes>"
      ]
     },
     "metadata": {},
     "output_type": "display_data"
    }
   ],
   "source": [
    "scaler =  StandardScaler() \n",
    "scaler.fit(X_train_k)\n",
    "X_train_std = scaler.transform(X_train_k)\n",
    "X_train_std = pd.DataFrame(X_train_std)\n",
    "X_train_std.columns = X_train_k.columns\n",
    "#ax = sns.boxplot(data=X_train_std, orient=\"h\")\n",
    "\n",
    "cols2 = pd.DataFrame(X_train_k)\n",
    "cols2 = list(cols2.columns)\n",
    "\n",
    "\n",
    "ax = sns.boxplot(data=X_train_std, orient=\"v\", color = 'green')\n",
    "ax.set_xticklabels(cols2,rotation=90)\n",
    "plt.title('Features values after standard scaling')\n",
    "plt.show()\n",
    "\n",
    "#boxplot = X_train_std.boxplot(column=cols2, rot=90, fontsize=10)\n",
    "\n",
    "X_test_std = scaler.transform(X_test_k)\n",
    "X_test_std = pd.DataFrame(X_test_std)\n",
    "X_test_std.columns = X_test_k.columns"
   ]
  },
  {
   "cell_type": "markdown",
   "id": "popular-hudson",
   "metadata": {},
   "source": [
    "#### Results after standard scaling"
   ]
  },
  {
   "cell_type": "code",
   "execution_count": 27,
   "id": "green-tourism",
   "metadata": {},
   "outputs": [
    {
     "data": {
      "image/png": "[encoded data removed]",
      "text/plain": [
       "<Figure size 576x396 with 1 Axes>"
      ]
     },
     "metadata": {},
     "output_type": "display_data"
    },
    {
     "name": "stdout",
     "output_type": "stream",
     "text": [
      "List of accuracies:\n",
      "[93.065 93.681 93.833 93.937 94.032 93.937 93.95  93.967 93.971]\n",
      "\n",
      "Optimal Accuracy:\n",
      "94.032%\n"
     ]
    }
   ],
   "source": [
    "knn_plot(X_train_std, X_test_std, 'Standard Scaling')"
   ]
  },
  {
   "cell_type": "code",
   "execution_count": 28,
   "id": "binary-system",
   "metadata": {},
   "outputs": [
    {
     "data": {
      "image/png": "[encoded data removed]",
      "text/plain": [
       "<Figure size 576x396 with 2 Axes>"
      ]
     },
     "metadata": {},
     "output_type": "display_data"
    },
    {
     "data": {
      "text/plain": [
       "<AxesSubplot:title={'center':'KNeighborsClassifier Classification Report'}>"
      ]
     },
     "execution_count": 28,
     "metadata": {},
     "output_type": "execute_result"
    }
   ],
   "source": [
    "knn = KNeighborsClassifier(n_neighbors = 11)\n",
    "visualizer = ClassificationReport(knn, classes=['On time','Late'], support=True)\n",
    "\n",
    "visualizer.fit(X_train_std, y_train_k)        \n",
    "visualizer.score(X_test_std, y_test_k)        \n",
    "visualizer.show()                 \n"
   ]
  },
  {
   "cell_type": "markdown",
   "id": "2ef16949",
   "metadata": {},
   "source": [
    "Using standard scaling resulted in a slight increase in accuracy. "
   ]
  },
  {
   "cell_type": "markdown",
   "id": "whole-swift",
   "metadata": {},
   "source": [
    "### Desicion tree"
   ]
  },
  {
   "cell_type": "code",
   "execution_count": 29,
   "id": "injured-province",
   "metadata": {},
   "outputs": [],
   "source": [
    "X_train_d, X_test_d, y_train_d, y_test_d = train_test_split(X, y, test_size=0.30, random_state=16)\n",
    "\n",
    "y_train_d = np.ravel(y_train_d)"
   ]
  },
  {
   "cell_type": "code",
   "execution_count": 30,
   "id": "respected-contribution",
   "metadata": {},
   "outputs": [],
   "source": [
    "def tree_plot(X_train, X_test):\n",
    "    \n",
    "    n_nsamples = [i for i in range(2,220,10)]\n",
    "    accuracy = []\n",
    "\n",
    "    for n in n_nsamples:\n",
    "        tree = DecisionTreeClassifier(min_samples_split = n)\n",
    "        tree.fit(X_train_d, y_train_d)\n",
    "        y_predict_d = tree.predict(X_test_d)\n",
    "        accuracy.append(accuracy_score(y_test_d, y_predict_d)*100)\n",
    "    \n",
    "    # good source for matplotlib parameters: https://matplotlib.org/3.1.1/api/pyplot_summary.html\n",
    "    plt.plot(n_nsamples, accuracy, linestyle ='dashed', marker = 'o', color = 'blue') # https://matplotlib.org/stable/api/_as_gen/matplotlib.pyplot.plot.html\n",
    "    plt.xticks(n_nsamples)\n",
    "    plt.title('Accuracies vs samples')\n",
    "    plt.xlabel('number of samples')\n",
    "    plt.ylabel('Accuracy (in percentage)')\n",
    "\n",
    "    plt.show()\n",
    "    \n",
    "    print(f'List of accuracies:\\n{np.around(accuracy, 3)}\\n') #https://www.kite.com/python/docs/numpy.around\n",
    "    print(f'Optimal Accuracy:\\n{round(max(accuracy),3)}')\n",
    "    Accuracies_Tree['Original'] = max(accuracy)"
   ]
  },
  {
   "cell_type": "code",
   "execution_count": 31,
   "id": "thick-egypt",
   "metadata": {},
   "outputs": [
    {
     "data": {
      "image/png": "[encoded data removed]",
      "text/plain": [
       "<Figure size 576x396 with 1 Axes>"
      ]
     },
     "metadata": {},
     "output_type": "display_data"
    },
    {
     "name": "stdout",
     "output_type": "stream",
     "text": [
      "List of accuracies:\n",
      "[89.652 90.714 91.721 92.176 92.636 92.879 93.108 93.117 93.26  93.286\n",
      " 93.408 93.399 93.421 93.442 93.555 93.594 93.642 93.711 93.724 93.794\n",
      " 93.798 93.798]\n",
      "\n",
      "Optimal Accuracy:\n",
      "93.798\n"
     ]
    }
   ],
   "source": [
    "tree_plot(X_train_d, X_test_d)"
   ]
  },
  {
   "cell_type": "markdown",
   "id": "9ad13f3f",
   "metadata": {},
   "source": [
    "### Summary: \n",
    "\n",
    "The models performed relatively good for this particular study. Due to its high accuracy, there is not much room for improvement, but considering a production enviroment, any small increase on the accuracy ond the validation set it could be well worth it.\n",
    "Knn with min-max scaling was the best performing model, however, the number of neighbors at which achieved maximum accuracy is relatively high. This indeed pose the problem of extensive computation. Logistic Regression was the second the second best performing model. The last model was Desition tree classifier.\n",
    "\n",
    "Attempting to improve the model further...\n"
   ]
  },
  {
   "cell_type": "markdown",
   "id": "explicit-romance",
   "metadata": {},
   "source": [
    "## 5. Resampling Methods"
   ]
  },
  {
   "cell_type": "markdown",
   "id": "portable-reception",
   "metadata": {},
   "source": [
    "There is an issue with class imbalance. Customers that pay their premium on time are far less that the ones that did not. This could potentially be adressed by balancing the classes.\n",
    "\n",
    "\n"
   ]
  },
  {
   "cell_type": "code",
   "execution_count": 32,
   "id": "abstract-cotton",
   "metadata": {},
   "outputs": [
    {
     "data": {
      "text/html": [
       "<div>\n",
       "<style scoped>\n",
       "    .dataframe tbody tr th:only-of-type {\n",
       "        vertical-align: middle;\n",
       "    }\n",
       "\n",
       "    .dataframe tbody tr th {\n",
       "        vertical-align: top;\n",
       "    }\n",
       "\n",
       "    .dataframe thead th {\n",
       "        text-align: right;\n",
       "    }\n",
       "</style>\n",
       "<table border=\"1\" class=\"dataframe\">\n",
       "  <thead>\n",
       "    <tr style=\"text-align: right;\">\n",
       "      <th></th>\n",
       "      <th>target</th>\n",
       "    </tr>\n",
       "  </thead>\n",
       "  <tbody>\n",
       "    <tr>\n",
       "      <th>count</th>\n",
       "      <td>76855.000000</td>\n",
       "    </tr>\n",
       "    <tr>\n",
       "      <th>mean</th>\n",
       "      <td>0.937805</td>\n",
       "    </tr>\n",
       "    <tr>\n",
       "      <th>std</th>\n",
       "      <td>0.241511</td>\n",
       "    </tr>\n",
       "    <tr>\n",
       "      <th>min</th>\n",
       "      <td>0.000000</td>\n",
       "    </tr>\n",
       "    <tr>\n",
       "      <th>25%</th>\n",
       "      <td>1.000000</td>\n",
       "    </tr>\n",
       "    <tr>\n",
       "      <th>50%</th>\n",
       "      <td>1.000000</td>\n",
       "    </tr>\n",
       "    <tr>\n",
       "      <th>75%</th>\n",
       "      <td>1.000000</td>\n",
       "    </tr>\n",
       "    <tr>\n",
       "      <th>max</th>\n",
       "      <td>1.000000</td>\n",
       "    </tr>\n",
       "  </tbody>\n",
       "</table>\n",
       "</div>"
      ],
      "text/plain": [
       "             target\n",
       "count  76855.000000\n",
       "mean       0.937805\n",
       "std        0.241511\n",
       "min        0.000000\n",
       "25%        1.000000\n",
       "50%        1.000000\n",
       "75%        1.000000\n",
       "max        1.000000"
      ]
     },
     "execution_count": 32,
     "metadata": {},
     "output_type": "execute_result"
    }
   ],
   "source": [
    "y.describe() \n",
    "\n",
    "# attempting to train the model using two resampling techniques on the training set."
   ]
  },
  {
   "cell_type": "markdown",
   "id": "66c36631",
   "metadata": {},
   "source": [
    "The mean of 0.937 clearly shows an imbalance on the dataset towards customers that paid their premiums (label 1).\n"
   ]
  },
  {
   "cell_type": "markdown",
   "id": "statewide-leisure",
   "metadata": {},
   "source": [
    "### Dealing with class imbalance: Logistic Regression"
   ]
  },
  {
   "cell_type": "code",
   "execution_count": 33,
   "id": "hungarian-possession",
   "metadata": {},
   "outputs": [],
   "source": [
    "# resampling the minority class  three different resampling methods\n",
    "\n",
    "X_train_smote_l, y_train_smote_l = SMOTE(k_neighbors = 4,sampling_strategy='minority').fit_resample(X_train_l, y_train_l)\n",
    "X_train_adasyn_l, y_train_adasyn_l = ADASYN(n_neighbors = 4,sampling_strategy='minority').fit_resample(X_train_l, y_train_l)\n",
    "X_train_random_l, y_train_random_l = RandomOverSampler().fit_resample(X_train_l, y_train_l)\n"
   ]
  },
  {
   "cell_type": "markdown",
   "id": "dirty-password",
   "metadata": {},
   "source": [
    "##### Testing three different resampling techniques:"
   ]
  },
  {
   "cell_type": "code",
   "execution_count": 34,
   "id": "friendly-pavilion",
   "metadata": {},
   "outputs": [
    {
     "name": "stdout",
     "output_type": "stream",
     "text": [
      "Accuracy Random Sampling Logistic Regression: 80.535 %\n",
      "Accuracy ADASYN algorithm Logistic Regression: 89.899 %\n",
      "Accuracy SMOTE algorithm Logistic Regression: 89.804 %\n"
     ]
    }
   ],
   "source": [
    "log_clf = LogisticRegression(max_iter = 202, n_jobs = -1)\n",
    "log_clf.fit(X_train_random_l, y_train_random_l, )\n",
    "y_predict_l = log_clf.predict(X_test_l) \n",
    "accuracy_log = accuracy_score(y_test_l, y_predict_l)*100\n",
    "print(f'Accuracy Random Sampling Logistic Regression: {round(accuracy_log,3)} %')\n",
    "Accuracies_Log['Random Resampling'] = accuracy_log\n",
    "\n",
    "log_clf = LogisticRegression(max_iter = 202, n_jobs = -1)\n",
    "log_clf.fit(X_train_adasyn_l, y_train_adasyn_l)\n",
    "y_predict_l = log_clf.predict(X_test_l) \n",
    "accuracy_log = accuracy_score(y_test_l, y_predict_l)*100\n",
    "print(f'Accuracy ADASYN algorithm Logistic Regression: {round(accuracy_log,3)} %')\n",
    "Accuracies_Log['ADASYN'] = accuracy_log\n",
    "\n",
    "log_clf = LogisticRegression(max_iter = 202, n_jobs = -1)\n",
    "log_clf.fit(X_train_smote_l, y_train_smote_l)\n",
    "y_predict_l = log_clf.predict(X_test_l) \n",
    "accuracy_log = accuracy_score(y_test_l, y_predict_l)*100\n",
    "print(f'Accuracy SMOTE algorithm Logistic Regression: {round(accuracy_log,3)} %')\n",
    "Accuracies_Log['SMOTE'] = accuracy_log"
   ]
  },
  {
   "cell_type": "markdown",
   "id": "9de35828",
   "metadata": {},
   "source": [
    "For Logistic Regression. Resampling the minority class did not result in an improvement of the model"
   ]
  },
  {
   "cell_type": "markdown",
   "id": "insured-italic",
   "metadata": {},
   "source": [
    "### Dealing with class imbalance: KNN"
   ]
  },
  {
   "cell_type": "code",
   "execution_count": 35,
   "id": "appreciated-bunny",
   "metadata": {},
   "outputs": [],
   "source": [
    "X_train_smote_k, y_train_smote_k = SMOTE(k_neighbors = 4,sampling_strategy='minority').fit_resample(X_train_std, y_train_k)\n",
    "X_train_adasyn_k, y_train_adasyn_k = ADASYN(n_neighbors = 4,sampling_strategy='minority').fit_resample(X_train_std, y_train_k)\n",
    "X_train_random_k, y_train_random_k = RandomOverSampler().fit_resample(X_train_std, y_train_k)\n",
    "\n",
    "# Consulted:\n",
    "\n",
    "# https://imbalanced-learn.org/stable/references/generated/imblearn.over_sampling.ADASYN.html\n",
    "# https://imbalanced-learn.org/stable/references/generated/imblearn.over_sampling.SMOTE.html\n",
    "# https://imbalanced-learn.org/stable/references/generated/imblearn.over_sampling.RandomOverSampler.html#"
   ]
  },
  {
   "cell_type": "markdown",
   "id": "disturbed-numbers",
   "metadata": {},
   "source": [
    "##### Testing three different resampling techniques:"
   ]
  },
  {
   "cell_type": "code",
   "execution_count": 36,
   "id": "relative-venue",
   "metadata": {},
   "outputs": [
    {
     "name": "stdout",
     "output_type": "stream",
     "text": [
      "Accuracy Random Sampling Knn: 78.067 %\n",
      "Accuracy ADASYN algorithm Knn: 75.11 %\n",
      "Accuracy SMOTE algorithm Knn: 76.736 %\n"
     ]
    }
   ],
   "source": [
    "knn_clf = KNeighborsClassifier(n_neighbors = 11, n_jobs = -1)\n",
    "knn_clf.fit(X_train_random_k, y_train_random_k)\n",
    "y_predict_k = knn_clf.predict(X_test_std) \n",
    "accuracy_k = accuracy_score(y_test_k, y_predict_k)*100\n",
    "print(f'Accuracy Random Sampling Knn: {round(accuracy_k,3)} %')\n",
    "Accuracies_KNN['Standard/Random Resampling'] = accuracy_k\n",
    "\n",
    "knn_clf = KNeighborsClassifier(n_neighbors = 11, n_jobs = -1)\n",
    "knn_clf.fit(X_train_adasyn_k, y_train_adasyn_k)\n",
    "y_predict_k = knn_clf.predict(X_test_std) \n",
    "accuracy_k = accuracy_score(y_test_k, y_predict_k)*100\n",
    "print(f'Accuracy ADASYN algorithm Knn: {round(accuracy_k,3)} %')\n",
    "Accuracies_KNN['Standard/ADASYN'] = accuracy_k\n",
    "\n",
    "knn_clf = KNeighborsClassifier(n_neighbors = 11, n_jobs = -1)\n",
    "knn_clf.fit(X_train_smote_k, y_train_smote_k)\n",
    "y_predict_k = knn_clf.predict(X_test_std) \n",
    "accuracy_k = accuracy_score(y_test_k, y_predict_k)*100\n",
    "print(f'Accuracy SMOTE algorithm Knn: {round(accuracy_k,3)} %')\n",
    "Accuracies_KNN['Standard/SMOTE'] = accuracy_k"
   ]
  },
  {
   "cell_type": "markdown",
   "id": "e11222c5",
   "metadata": {},
   "source": [
    "For KNN. Resampling the minority class did not result in an improvement of the model."
   ]
  },
  {
   "cell_type": "markdown",
   "id": "frozen-fisher",
   "metadata": {},
   "source": [
    "### Dealing with class imbalance: Decision Trees\n",
    "\n",
    "\n"
   ]
  },
  {
   "cell_type": "code",
   "execution_count": 37,
   "id": "statewide-turkey",
   "metadata": {},
   "outputs": [],
   "source": [
    "# resampling the minority class  three different resampling methods\n",
    "\n",
    "X_train_smote, y_train_smote = SMOTE(k_neighbors = 4,sampling_strategy='minority').fit_resample(X_train_d, y_train_d)\n",
    "X_train_adasyn, y_train_adasyn = ADASYN(n_neighbors = 4,sampling_strategy='minority').fit_resample(X_train_d, y_train_d)\n",
    "X_train_random, y_train_random = RandomOverSampler().fit_resample(X_train_d, y_train_d)\n"
   ]
  },
  {
   "cell_type": "markdown",
   "id": "delayed-weekend",
   "metadata": {},
   "source": [
    "#### Testing three different resampling techniques"
   ]
  },
  {
   "cell_type": "code",
   "execution_count": 38,
   "id": "loose-sarah",
   "metadata": {},
   "outputs": [
    {
     "name": "stdout",
     "output_type": "stream",
     "text": [
      "Accuracy Random Sampling Tree: 78.215 %\n",
      "Accuracy ADASYN algorithm Tree: 92.705 %\n",
      "Accuracy SMOTE algorithm Tree: 92.866 %\n"
     ]
    }
   ],
   "source": [
    "tree_clf = DecisionTreeClassifier(min_samples_split = 202)\n",
    "tree_clf.fit(X_train_random, y_train_random)\n",
    "y_predict = tree_clf.predict(X_test_d) \n",
    "accuracy_log = accuracy_score(y_test_d, y_predict)*100\n",
    "print(f'Accuracy Random Sampling Tree: {round(accuracy_log,3)} %')\n",
    "Accuracies_Tree['Random Resampling'] = accuracy_log\n",
    "\n",
    "tree_clf = DecisionTreeClassifier(min_samples_split = 202)\n",
    "tree_clf.fit(X_train_adasyn, y_train_adasyn)\n",
    "y_predict = tree_clf.predict(X_test_d) \n",
    "accuracy_log = accuracy_score(y_test_d, y_predict)*100\n",
    "print(f'Accuracy ADASYN algorithm Tree: {round(accuracy_log,3)} %')\n",
    "Accuracies_Tree['ADASYN'] = accuracy_log\n",
    "\n",
    "tree_clf = DecisionTreeClassifier(min_samples_split = 202)\n",
    "tree_clf.fit(X_train_smote, y_train_smote)\n",
    "y_predict = tree_clf.predict(X_test_d) \n",
    "accuracy_log = accuracy_score(y_test_d, y_predict)*100\n",
    "print(f'Accuracy SMOTE algorithm Tree: {round(accuracy_log,3)} %')\n",
    "Accuracies_Tree['SMOTE'] = accuracy_log\n"
   ]
  },
  {
   "cell_type": "markdown",
   "id": "4b832514",
   "metadata": {},
   "source": [
    "For Decision Tree Classifier. Resampling the minority class did not result in an improvement of the model."
   ]
  },
  {
   "cell_type": "markdown",
   "id": "smart-bedroom",
   "metadata": {},
   "source": [
    "## 6. Feature Selection"
   ]
  },
  {
   "cell_type": "markdown",
   "id": "searching-funeral",
   "metadata": {},
   "source": [
    "### Feature importances - Shapley Additive Explanations (SHAP)\n",
    "\n",
    "Feature importance algorithms and Shapley algorithms were used in order to determine the features that contribute the most to the model. That importance will be later used along with recursive feature elimination to select the best possible combination of features to use."
   ]
  },
  {
   "cell_type": "markdown",
   "id": "hydraulic-buyer",
   "metadata": {},
   "source": [
    "### Logistic Regression:"
   ]
  },
  {
   "cell_type": "markdown",
   "id": "e5af8909",
   "metadata": {},
   "source": [
    "##### Exploring the features:"
   ]
  },
  {
   "cell_type": "code",
   "execution_count": 39,
   "id": "9863c08c",
   "metadata": {},
   "outputs": [
    {
     "name": "stdout",
     "output_type": "stream",
     "text": [
      "perc_premium_paid_by_cash_credit\n",
      "age_in_days\n",
      "Income\n",
      "Count_3-6_months_late\n",
      "Count_6-12_months_late\n",
      "Count_more_than_12_months_late\n",
      "application_underwriting_score\n",
      "no_of_premiums_paid\n",
      "A\n",
      "B\n",
      "C\n",
      "D\n",
      "E\n",
      "Rural\n",
      "Urban\n"
     ]
    }
   ],
   "source": [
    "for i in X_train_l.columns:\n",
    "    print (i)"
   ]
  },
  {
   "cell_type": "code",
   "execution_count": 40,
   "id": "a6cb9c50",
   "metadata": {},
   "outputs": [],
   "source": [
    "def shapley(x_train,x_test,y_train,y_test, algorithm):\n",
    "  \n",
    "    accuracies = []\n",
    "    cols = []\n",
    "    model = algorithm\n",
    "    model.fit(x_train, y_train)\n",
    "    y_predict = model.predict(x_test) \n",
    "    complete_accuracy = accuracy_score(y_test, y_predict)*100\n",
    "    \n",
    "    for i in x_train.columns:\n",
    "        cols.append(i)\n",
    "        x_train_i = x_train.drop(i, axis = 1)\n",
    "        x_test_i =  x_test.drop(i, axis = 1)\n",
    "        model = algorithm\n",
    "        model.fit(x_train_i, y_train)\n",
    "        y_predict_i = model.predict(x_test_i) \n",
    "        accuracies.append(accuracy_score(y_test, y_predict_i)*100)\n",
    "        \n",
    "        \n",
    "    delta =  complete_accuracy - np.array(accuracies)\n",
    "    d = {cols[i] : delta[i] for i in range(len(cols))}\n",
    "    max_delta = max(d, key=d.get) # low to high sort\n",
    "    \n",
    "    for col, acu in zip(cols, accuracies):\n",
    "        print(f'Contribution of {col} for {algorithm}: {round(d[col],3)}%')\n",
    "        print(f'Accuracy without {col}: accuracies {round(acu,3)}%')\n",
    "        \n",
    "   \n",
    "       \n",
    "    print(f'Total Accuracy: {round(complete_accuracy,3)}%')\n",
    "    \n",
    "# https://stackoverflow.com/questions/20230326/retrieve-dataframe-of-all-but-one-specified-column"
   ]
  },
  {
   "cell_type": "code",
   "execution_count": 41,
   "id": "b10fedc4",
   "metadata": {},
   "outputs": [
    {
     "name": "stdout",
     "output_type": "stream",
     "text": [
      "Contribution of perc_premium_paid_by_cash_credit for LogisticRegression(max_iter=200, n_jobs=-1): 0.256%\n",
      "Accuracy without perc_premium_paid_by_cash_credit: accuracies 93.559%\n",
      "Contribution of age_in_days for LogisticRegression(max_iter=200, n_jobs=-1): 0.039%\n",
      "Accuracy without age_in_days: accuracies 93.776%\n",
      "Contribution of Income for LogisticRegression(max_iter=200, n_jobs=-1): -0.009%\n",
      "Accuracy without Income: accuracies 93.824%\n",
      "Contribution of Count_3-6_months_late for LogisticRegression(max_iter=200, n_jobs=-1): 0.052%\n",
      "Accuracy without Count_3-6_months_late: accuracies 93.763%\n",
      "Contribution of Count_6-12_months_late for LogisticRegression(max_iter=200, n_jobs=-1): 0.382%\n",
      "Accuracy without Count_6-12_months_late: accuracies 93.434%\n",
      "Contribution of Count_more_than_12_months_late for LogisticRegression(max_iter=200, n_jobs=-1): 0.095%\n",
      "Accuracy without Count_more_than_12_months_late: accuracies 93.72%\n",
      "Contribution of application_underwriting_score for LogisticRegression(max_iter=200, n_jobs=-1): 0.243%\n",
      "Accuracy without application_underwriting_score: accuracies 93.572%\n",
      "Contribution of no_of_premiums_paid for LogisticRegression(max_iter=200, n_jobs=-1): 0.234%\n",
      "Accuracy without no_of_premiums_paid: accuracies 93.581%\n",
      "Contribution of A for LogisticRegression(max_iter=200, n_jobs=-1): 0.217%\n",
      "Accuracy without A: accuracies 93.598%\n",
      "Contribution of B for LogisticRegression(max_iter=200, n_jobs=-1): 0.234%\n",
      "Accuracy without B: accuracies 93.581%\n",
      "Contribution of C for LogisticRegression(max_iter=200, n_jobs=-1): 0.009%\n",
      "Accuracy without C: accuracies 93.807%\n",
      "Contribution of D for LogisticRegression(max_iter=200, n_jobs=-1): -0.013%\n",
      "Accuracy without D: accuracies 93.828%\n",
      "Contribution of E for LogisticRegression(max_iter=200, n_jobs=-1): 0.0%\n",
      "Accuracy without E: accuracies 93.815%\n",
      "Contribution of Rural for LogisticRegression(max_iter=200, n_jobs=-1): 0.234%\n",
      "Accuracy without Rural: accuracies 93.581%\n",
      "Contribution of Urban for LogisticRegression(max_iter=200, n_jobs=-1): 0.23%\n",
      "Accuracy without Urban: accuracies 93.585%\n",
      "Total Accuracy: 93.815%\n"
     ]
    }
   ],
   "source": [
    "shapley(X_train_l,X_test_l,y_train_l,y_test_l, LogisticRegression(max_iter = 200, n_jobs = -1))"
   ]
  },
  {
   "cell_type": "code",
   "execution_count": 42,
   "id": "6af14149",
   "metadata": {},
   "outputs": [
    {
     "name": "stderr",
     "output_type": "stream",
     "text": [
      "/opt/homebrew/Caskroom/miniforge/base/envs/datascience/lib/python3.9/site-packages/yellowbrick/model_selection/importances.py:194: YellowbrickWarning: detected multi-dimensional feature importances but stack=False, using mean to aggregate them.\n",
      "  warnings.warn(\n"
     ]
    },
    {
     "data": {
      "image/png": "[encoded data removed]",
      "text/plain": [
       "<Figure size 576x396 with 1 Axes>"
      ]
     },
     "metadata": {},
     "output_type": "display_data"
    },
    {
     "data": {
      "text/plain": [
       "<AxesSubplot:title={'center':'Feature Importances of 15 Features using LogisticRegression'}, xlabel='relative coefficient magnitude'>"
      ]
     },
     "execution_count": 42,
     "metadata": {},
     "output_type": "execute_result"
    }
   ],
   "source": [
    "model = LogisticRegression(max_iter=200, n_jobs=-1)\n",
    "importances = FeatureImportances(model)\n",
    "importances.fit(X_train_l, y_train_l)\n",
    "importances.show()\n",
    "# https://www.scikit-yb.org/en/latest/api/model_selection/importances.html"
   ]
  },
  {
   "cell_type": "markdown",
   "id": "3642244f",
   "metadata": {},
   "source": [
    "### Recursive Feature Elimination:"
   ]
  },
  {
   "attachments": {},
   "cell_type": "markdown",
   "id": "51dbfdf0",
   "metadata": {},
   "source": [
    "This technique will try the performance of the algorithm by recursively trying all the features. After the optimal number of features is found, the most important features will be selected and recursively tested. Features with no importance are not considered in the recursive test."
   ]
  },
  {
   "cell_type": "code",
   "execution_count": 43,
   "id": "88ab752c",
   "metadata": {},
   "outputs": [],
   "source": [
    "def recfe(target, data, algorithm):\n",
    "\n",
    "    classifier = algorithm\n",
    "    rfe = RFE(estimator=classifier, n_features_to_select= 1, step=1, verbose = 10)\n",
    "    rfe.fit(data,target)\n",
    "    optimal_features = rfe.n_features_\n",
    "\n",
    "    print(f\"Optimal number of features : {optimal_features}\") "
   ]
  },
  {
   "cell_type": "code",
   "execution_count": 44,
   "id": "58a242bd",
   "metadata": {},
   "outputs": [],
   "source": [
    "def recfecv(target, data, algorithm):\n",
    "    \n",
    "    classifier = algorithm\n",
    "    rfecv = RFECV(estimator=classifier, step=1, cv=KFold(12), scoring='accuracy', verbose = 10, n_jobs = -1)\n",
    "    rfecv.fit(data,target)\n",
    "    optimal_features = rfecv.n_features_\n",
    "\n",
    "    print(\"Optimal number of features with Cross Validation is : %d\" % rfecv.n_features_) \n",
    "    \n",
    "    \n",
    "    plt.figure()\n",
    "    plt.title('Recursive Feature Elimination with 12 fold cross validation')\n",
    "    plt.xlabel(\"Number of features selected\")\n",
    "    plt.ylabel(\"Cross validation score\")\n",
    "    plt.plot(range(1, len(rfecv.grid_scores_) + 1), rfecv.grid_scores_, linestyle ='dashed', marker = 'o', color = 'blue')\n",
    "    plt.show()\n",
    "  # https://scikit-learn.org/stable/modules/generated/sklearn.feature_selection.RFECV.html      "
   ]
  },
  {
   "cell_type": "code",
   "execution_count": 45,
   "id": "49a9875f",
   "metadata": {},
   "outputs": [
    {
     "name": "stdout",
     "output_type": "stream",
     "text": [
      "Fitting estimator with 15 features.\n",
      "Fitting estimator with 14 features.\n",
      "Fitting estimator with 13 features.\n",
      "Fitting estimator with 12 features.\n",
      "Fitting estimator with 11 features.\n",
      "Fitting estimator with 10 features.\n",
      "Fitting estimator with 9 features.\n",
      "Fitting estimator with 8 features.\n",
      "Fitting estimator with 7 features.\n",
      "Fitting estimator with 6 features.\n",
      "Fitting estimator with 5 features.\n",
      "Fitting estimator with 4 features.\n",
      "Fitting estimator with 3 features.\n",
      "Fitting estimator with 2 features.\n",
      "Optimal number of features : 1\n"
     ]
    }
   ],
   "source": [
    "recfe(y_train_l,X_train_l, LogisticRegression(max_iter = 200, n_jobs = -1))"
   ]
  },
  {
   "cell_type": "code",
   "execution_count": 46,
   "id": "814b1d8d",
   "metadata": {},
   "outputs": [
    {
     "name": "stdout",
     "output_type": "stream",
     "text": [
      "Fitting estimator with 15 features.\n",
      "Fitting estimator with 14 features.\n",
      "Fitting estimator with 13 features.\n",
      "Fitting estimator with 12 features.\n",
      "Fitting estimator with 11 features.\n",
      "Fitting estimator with 10 features.\n",
      "Fitting estimator with 9 features.\n",
      "Fitting estimator with 8 features.\n",
      "Fitting estimator with 7 features.\n",
      "Fitting estimator with 6 features.\n",
      "Fitting estimator with 5 features.\n",
      "Fitting estimator with 4 features.\n",
      "Optimal number of features with Cross Validation is : 3\n"
     ]
    },
    {
     "data": {
      "image/png": "[encoded data removed]",
      "text/plain": [
       "<Figure size 576x396 with 1 Axes>"
      ]
     },
     "metadata": {},
     "output_type": "display_data"
    }
   ],
   "source": [
    "recfecv(y_train_l,X_train_l, LogisticRegression(max_iter = 200, n_jobs = -1))"
   ]
  },
  {
   "cell_type": "code",
   "execution_count": 47,
   "id": "72eb3073",
   "metadata": {},
   "outputs": [],
   "source": [
    "# Using the best feature with Recursive feature elimination:\n",
    "\n",
    "X_train_re_l = X_train_l['Count_3-6_months_late'].values.reshape(-1, 1)\n",
    "\n",
    "X_test_re_l = X_test_l['Count_3-6_months_late'].values.reshape(-1, 1)"
   ]
  },
  {
   "cell_type": "code",
   "execution_count": 48,
   "id": "ae7db980",
   "metadata": {},
   "outputs": [],
   "source": [
    "logclf = LogisticRegression(max_iter = 200, n_jobs = -1)\n",
    "logclf.fit(X_train_re_l, y_train_l)\n",
    "y_predict_f_l = logclf.predict(X_test_re_l)\n",
    "accuracy_ref = round(accuracy_score(y_test_l, y_predict_f_l)*100,3)"
   ]
  },
  {
   "cell_type": "code",
   "execution_count": 49,
   "id": "3a443c7b",
   "metadata": {},
   "outputs": [
    {
     "name": "stdout",
     "output_type": "stream",
     "text": [
      "Accuracy after feature selection after feature selection : 93.451 %\n"
     ]
    }
   ],
   "source": [
    "print(f'Accuracy after feature selection after feature selection : {accuracy_ref } %') "
   ]
  },
  {
   "cell_type": "code",
   "execution_count": 50,
   "id": "582c7dee",
   "metadata": {},
   "outputs": [
    {
     "name": "stdout",
     "output_type": "stream",
     "text": [
      "Accuracy after feature selection and recursive feature elimination with 12 fold cross-validation : 93.802 %\n"
     ]
    }
   ],
   "source": [
    "# Using the best feature with Recursive feature elimination with 12 fold cross validation:\n",
    "\n",
    "X_train_recv_l = X_train_l[['perc_premium_paid_by_cash_credit', 'Count_6-12_months_late','Count_more_than_12_months_late']].values\n",
    "\n",
    "X_test_recv_l = X_test_l[['perc_premium_paid_by_cash_credit', 'Count_6-12_months_late','Count_more_than_12_months_late']].values\n",
    "\n",
    "logclf = LogisticRegression(max_iter = 200, n_jobs = -1)\n",
    "logclf.fit(X_train_recv_l, y_train_l)\n",
    "y_predict_f_l = logclf.predict(X_test_recv_l)\n",
    "accuracy_refcv = round(accuracy_score(y_test_l, y_predict_f_l)*100,3)\n",
    "\n",
    "print(f'Accuracy after feature selection and recursive feature elimination with 12 fold cross-validation : {accuracy_refcv} %') \n",
    "Accuracies_Log['Recursive Feature Elimination'] = accuracy_refcv"
   ]
  },
  {
   "cell_type": "markdown",
   "id": "87e9c308",
   "metadata": {},
   "source": [
    "No improvement was found but this will allow to reduce the computational time by selecting only 3 features."
   ]
  },
  {
   "cell_type": "markdown",
   "id": "facial-facility",
   "metadata": {},
   "source": [
    "### KNN:"
   ]
  },
  {
   "cell_type": "markdown",
   "id": "027383c1",
   "metadata": {},
   "source": [
    "##### Exploring the features:"
   ]
  },
  {
   "cell_type": "code",
   "execution_count": 51,
   "id": "5ebcc221",
   "metadata": {},
   "outputs": [
    {
     "name": "stdout",
     "output_type": "stream",
     "text": [
      "Contribution of perc_premium_paid_by_cash_credit for KNeighborsClassifier(n_jobs=-1, n_neighbors=11): 0.121%\n",
      "Accuracy without perc_premium_paid_by_cash_credit: accuracies 93.911%\n",
      "Contribution of age_in_days for KNeighborsClassifier(n_jobs=-1, n_neighbors=11): 0.052%\n",
      "Accuracy without age_in_days: accuracies 93.98%\n",
      "Contribution of Income for KNeighborsClassifier(n_jobs=-1, n_neighbors=11): 0.03%\n",
      "Accuracy without Income: accuracies 94.002%\n",
      "Contribution of Count_3-6_months_late for KNeighborsClassifier(n_jobs=-1, n_neighbors=11): 0.156%\n",
      "Accuracy without Count_3-6_months_late: accuracies 93.876%\n",
      "Contribution of Count_6-12_months_late for KNeighborsClassifier(n_jobs=-1, n_neighbors=11): 0.252%\n",
      "Accuracy without Count_6-12_months_late: accuracies 93.781%\n",
      "Contribution of Count_more_than_12_months_late for KNeighborsClassifier(n_jobs=-1, n_neighbors=11): 0.121%\n",
      "Accuracy without Count_more_than_12_months_late: accuracies 93.911%\n",
      "Contribution of application_underwriting_score for KNeighborsClassifier(n_jobs=-1, n_neighbors=11): 0.087%\n",
      "Accuracy without application_underwriting_score: accuracies 93.945%\n",
      "Contribution of no_of_premiums_paid for KNeighborsClassifier(n_jobs=-1, n_neighbors=11): 0.1%\n",
      "Accuracy without no_of_premiums_paid: accuracies 93.932%\n",
      "Contribution of A for KNeighborsClassifier(n_jobs=-1, n_neighbors=11): -0.009%\n",
      "Accuracy without A: accuracies 94.041%\n",
      "Contribution of B for KNeighborsClassifier(n_jobs=-1, n_neighbors=11): -0.004%\n",
      "Accuracy without B: accuracies 94.037%\n",
      "Contribution of C for KNeighborsClassifier(n_jobs=-1, n_neighbors=11): 0.022%\n",
      "Accuracy without C: accuracies 94.01%\n",
      "Contribution of D for KNeighborsClassifier(n_jobs=-1, n_neighbors=11): 0.035%\n",
      "Accuracy without D: accuracies 93.997%\n",
      "Contribution of E for KNeighborsClassifier(n_jobs=-1, n_neighbors=11): 0.009%\n",
      "Accuracy without E: accuracies 94.024%\n",
      "Contribution of Rural for KNeighborsClassifier(n_jobs=-1, n_neighbors=11): 0.052%\n",
      "Accuracy without Rural: accuracies 93.98%\n",
      "Contribution of Urban for KNeighborsClassifier(n_jobs=-1, n_neighbors=11): 0.052%\n",
      "Accuracy without Urban: accuracies 93.98%\n",
      "Total Accuracy: 94.032%\n"
     ]
    }
   ],
   "source": [
    "shapley(X_train_std,X_test_std,y_train_k,y_test_k, KNeighborsClassifier(n_neighbors = 11, n_jobs = -1))"
   ]
  },
  {
   "cell_type": "markdown",
   "id": "b33b1f76",
   "metadata": {},
   "source": [
    "### Recursive Feature Elimination: \n",
    "\n",
    "Knn does not provide feature importance information in order to perform recursive feature elimination"
   ]
  },
  {
   "cell_type": "code",
   "execution_count": 52,
   "id": "028ffa53",
   "metadata": {},
   "outputs": [
    {
     "data": {
      "text/html": [
       "<div>\n",
       "<style scoped>\n",
       "    .dataframe tbody tr th:only-of-type {\n",
       "        vertical-align: middle;\n",
       "    }\n",
       "\n",
       "    .dataframe tbody tr th {\n",
       "        vertical-align: top;\n",
       "    }\n",
       "\n",
       "    .dataframe thead th {\n",
       "        text-align: right;\n",
       "    }\n",
       "</style>\n",
       "<table border=\"1\" class=\"dataframe\">\n",
       "  <thead>\n",
       "    <tr style=\"text-align: right;\">\n",
       "      <th></th>\n",
       "      <th>perc_premium_paid_by_cash_credit</th>\n",
       "      <th>age_in_days</th>\n",
       "      <th>...</th>\n",
       "      <th>Rural</th>\n",
       "      <th>Urban</th>\n",
       "    </tr>\n",
       "  </thead>\n",
       "  <tbody>\n",
       "    <tr>\n",
       "      <th>0</th>\n",
       "      <td>-0.271981</td>\n",
       "      <td>-0.462910</td>\n",
       "      <td>...</td>\n",
       "      <td>-0.810087</td>\n",
       "      <td>0.810087</td>\n",
       "    </tr>\n",
       "    <tr>\n",
       "      <th>1</th>\n",
       "      <td>-0.955608</td>\n",
       "      <td>-0.819595</td>\n",
       "      <td>...</td>\n",
       "      <td>-0.810087</td>\n",
       "      <td>0.810087</td>\n",
       "    </tr>\n",
       "    <tr>\n",
       "      <th>2</th>\n",
       "      <td>-0.813438</td>\n",
       "      <td>-1.105924</td>\n",
       "      <td>...</td>\n",
       "      <td>1.234436</td>\n",
       "      <td>-1.234436</td>\n",
       "    </tr>\n",
       "    <tr>\n",
       "      <th>3</th>\n",
       "      <td>1.122495</td>\n",
       "      <td>-0.532679</td>\n",
       "      <td>...</td>\n",
       "      <td>-0.810087</td>\n",
       "      <td>0.810087</td>\n",
       "    </tr>\n",
       "    <tr>\n",
       "      <th>4</th>\n",
       "      <td>1.361462</td>\n",
       "      <td>-1.536103</td>\n",
       "      <td>...</td>\n",
       "      <td>-0.810087</td>\n",
       "      <td>0.810087</td>\n",
       "    </tr>\n",
       "    <tr>\n",
       "      <th>...</th>\n",
       "      <td>...</td>\n",
       "      <td>...</td>\n",
       "      <td>...</td>\n",
       "      <td>...</td>\n",
       "      <td>...</td>\n",
       "    </tr>\n",
       "    <tr>\n",
       "      <th>23052</th>\n",
       "      <td>-0.934434</td>\n",
       "      <td>-1.462806</td>\n",
       "      <td>...</td>\n",
       "      <td>1.234436</td>\n",
       "      <td>-1.234436</td>\n",
       "    </tr>\n",
       "    <tr>\n",
       "      <th>23053</th>\n",
       "      <td>0.647587</td>\n",
       "      <td>-0.390984</td>\n",
       "      <td>...</td>\n",
       "      <td>-0.810087</td>\n",
       "      <td>0.810087</td>\n",
       "    </tr>\n",
       "    <tr>\n",
       "      <th>23054</th>\n",
       "      <td>0.571964</td>\n",
       "      <td>-0.318667</td>\n",
       "      <td>...</td>\n",
       "      <td>1.234436</td>\n",
       "      <td>-1.234436</td>\n",
       "    </tr>\n",
       "    <tr>\n",
       "      <th>23055</th>\n",
       "      <td>0.263425</td>\n",
       "      <td>-1.034391</td>\n",
       "      <td>...</td>\n",
       "      <td>1.234436</td>\n",
       "      <td>-1.234436</td>\n",
       "    </tr>\n",
       "    <tr>\n",
       "      <th>23056</th>\n",
       "      <td>-0.356678</td>\n",
       "      <td>0.039390</td>\n",
       "      <td>...</td>\n",
       "      <td>1.234436</td>\n",
       "      <td>-1.234436</td>\n",
       "    </tr>\n",
       "  </tbody>\n",
       "</table>\n",
       "<p>23057 rows × 15 columns</p>\n",
       "</div>"
      ],
      "text/plain": [
       "       perc_premium_paid_by_cash_credit  age_in_days  ...     Rural     Urban\n",
       "0                             -0.271981    -0.462910  ... -0.810087  0.810087\n",
       "1                             -0.955608    -0.819595  ... -0.810087  0.810087\n",
       "2                             -0.813438    -1.105924  ...  1.234436 -1.234436\n",
       "3                              1.122495    -0.532679  ... -0.810087  0.810087\n",
       "4                              1.361462    -1.536103  ... -0.810087  0.810087\n",
       "...                                 ...          ...  ...       ...       ...\n",
       "23052                         -0.934434    -1.462806  ...  1.234436 -1.234436\n",
       "23053                          0.647587    -0.390984  ... -0.810087  0.810087\n",
       "23054                          0.571964    -0.318667  ...  1.234436 -1.234436\n",
       "23055                          0.263425    -1.034391  ...  1.234436 -1.234436\n",
       "23056                         -0.356678     0.039390  ...  1.234436 -1.234436\n",
       "\n",
       "[23057 rows x 15 columns]"
      ]
     },
     "execution_count": 52,
     "metadata": {},
     "output_type": "execute_result"
    }
   ],
   "source": [
    "X_test_std"
   ]
  },
  {
   "cell_type": "code",
   "execution_count": 53,
   "id": "5fd6c8e4",
   "metadata": {},
   "outputs": [],
   "source": [
    "# Using the best features after performing recursive SHAP:\n",
    "\n",
    "X_train_shap_k = X_train_std['Count_6-12_months_late'].values\n",
    "X_train_shap_k = X_train_shap_k.reshape(-1, 1)\n",
    "\n",
    "X_test_shap_k = X_test_std['Count_6-12_months_late'].values\n",
    "X_test_shap_k= X_test_shap_k.reshape(-1, 1)"
   ]
  },
  {
   "cell_type": "code",
   "execution_count": 54,
   "id": "82781328",
   "metadata": {},
   "outputs": [],
   "source": [
    "knn = KNeighborsClassifier(n_jobs=-1, n_neighbors=11)\n",
    "knn.fit(X_train_shap_k, y_train_k)\n",
    "y_predict_f_k = knn.predict(X_test_shap_k)\n",
    "accuracy_shap = round(accuracy_score(y_test_k, y_predict_f_k)*100,3)"
   ]
  },
  {
   "cell_type": "code",
   "execution_count": 55,
   "id": "4c8f7bcc",
   "metadata": {},
   "outputs": [
    {
     "name": "stdout",
     "output_type": "stream",
     "text": [
      "Accuracy after feature selection using Shapley : 93.854 %\n"
     ]
    }
   ],
   "source": [
    "print(f'Accuracy after feature selection using Shapley : {accuracy_shap} %') \n",
    "Accuracies_KNN['Standard/Shapley'] =  accuracy_shap"
   ]
  },
  {
   "cell_type": "markdown",
   "id": "82e16787",
   "metadata": {},
   "source": [
    "Accuracy for this model did not improved when using all the features together. It performed slightly worse"
   ]
  },
  {
   "cell_type": "markdown",
   "id": "referenced-riverside",
   "metadata": {},
   "source": [
    "### Decision Tree:"
   ]
  },
  {
   "cell_type": "markdown",
   "id": "acquired-horizontal",
   "metadata": {},
   "source": [
    "##### Exploring the features:"
   ]
  },
  {
   "cell_type": "code",
   "execution_count": 56,
   "id": "structural-triangle",
   "metadata": {},
   "outputs": [
    {
     "name": "stdout",
     "output_type": "stream",
     "text": [
      "perc_premium_paid_by_cash_credit\n",
      "age_in_days\n",
      "Income\n",
      "Count_3-6_months_late\n",
      "Count_6-12_months_late\n",
      "Count_more_than_12_months_late\n",
      "application_underwriting_score\n",
      "no_of_premiums_paid\n",
      "A\n",
      "B\n",
      "C\n",
      "D\n",
      "E\n",
      "Rural\n",
      "Urban\n"
     ]
    }
   ],
   "source": [
    "for i in X_train_d.columns:\n",
    "    print (i)"
   ]
  },
  {
   "cell_type": "code",
   "execution_count": 57,
   "id": "raising-starter",
   "metadata": {},
   "outputs": [
    {
     "name": "stdout",
     "output_type": "stream",
     "text": [
      "Contribution of perc_premium_paid_by_cash_credit for DecisionTreeClassifier(min_samples_split=202): -0.017%\n",
      "Accuracy without perc_premium_paid_by_cash_credit: accuracies 93.815%\n",
      "Contribution of age_in_days for DecisionTreeClassifier(min_samples_split=202): -0.039%\n",
      "Accuracy without age_in_days: accuracies 93.837%\n",
      "Contribution of Income for DecisionTreeClassifier(min_samples_split=202): -0.035%\n",
      "Accuracy without Income: accuracies 93.833%\n",
      "Contribution of Count_3-6_months_late for DecisionTreeClassifier(min_samples_split=202): 0.022%\n",
      "Accuracy without Count_3-6_months_late: accuracies 93.776%\n",
      "Contribution of Count_6-12_months_late for DecisionTreeClassifier(min_samples_split=202): 0.204%\n",
      "Accuracy without Count_6-12_months_late: accuracies 93.594%\n",
      "Contribution of Count_more_than_12_months_late for DecisionTreeClassifier(min_samples_split=202): 0.043%\n",
      "Accuracy without Count_more_than_12_months_late: accuracies 93.755%\n",
      "Contribution of application_underwriting_score for DecisionTreeClassifier(min_samples_split=202): -0.026%\n",
      "Accuracy without application_underwriting_score: accuracies 93.824%\n",
      "Contribution of no_of_premiums_paid for DecisionTreeClassifier(min_samples_split=202): 0.03%\n",
      "Accuracy without no_of_premiums_paid: accuracies 93.768%\n",
      "Contribution of A for DecisionTreeClassifier(min_samples_split=202): 0.026%\n",
      "Accuracy without A: accuracies 93.772%\n",
      "Contribution of B for DecisionTreeClassifier(min_samples_split=202): 0.004%\n",
      "Accuracy without B: accuracies 93.794%\n",
      "Contribution of C for DecisionTreeClassifier(min_samples_split=202): 0.0%\n",
      "Accuracy without C: accuracies 93.798%\n",
      "Contribution of D for DecisionTreeClassifier(min_samples_split=202): -0.004%\n",
      "Accuracy without D: accuracies 93.802%\n",
      "Contribution of E for DecisionTreeClassifier(min_samples_split=202): -0.009%\n",
      "Accuracy without E: accuracies 93.807%\n",
      "Contribution of Rural for DecisionTreeClassifier(min_samples_split=202): 0.0%\n",
      "Accuracy without Rural: accuracies 93.798%\n",
      "Contribution of Urban for DecisionTreeClassifier(min_samples_split=202): -0.004%\n",
      "Accuracy without Urban: accuracies 93.802%\n",
      "Total Accuracy: 93.798%\n"
     ]
    }
   ],
   "source": [
    "shapley(X_train_d,X_test_d,y_train_d,y_test_d, DecisionTreeClassifier(min_samples_split = 202))\n"
   ]
  },
  {
   "cell_type": "markdown",
   "id": "vietnamese-george",
   "metadata": {},
   "source": [
    "The most important feature for this particular classifier is Count_6-12_months_late. The ausence of this featgure produces the highest drop in accuracy.\n"
   ]
  },
  {
   "cell_type": "code",
   "execution_count": 58,
   "id": "concerned-consultancy",
   "metadata": {},
   "outputs": [
    {
     "data": {
      "image/png": "[encoded data removed]",
      "text/plain": [
       "<Figure size 576x396 with 1 Axes>"
      ]
     },
     "metadata": {},
     "output_type": "display_data"
    },
    {
     "data": {
      "text/plain": [
       "<AxesSubplot:title={'center':'Feature Importances of 15 Features using DecisionTreeClassifier'}, xlabel='relative importance'>"
      ]
     },
     "execution_count": 58,
     "metadata": {},
     "output_type": "execute_result"
    }
   ],
   "source": [
    "model = DecisionTreeClassifier(min_samples_split = 202)\n",
    "importances = FeatureImportances(model)\n",
    "importances.fit(X_train_d, y_train_d)\n",
    "importances.show()\n",
    "# https://www.scikit-yb.org/en/latest/api/model_selection/importances.html"
   ]
  },
  {
   "cell_type": "markdown",
   "id": "christian-bleeding",
   "metadata": {},
   "source": [
    "### Recursive Feature Elimination:"
   ]
  },
  {
   "cell_type": "markdown",
   "id": "minimal-remark",
   "metadata": {},
   "source": [
    "This technique will try the performance of the algorithm by resursively trying all the features. After the optimal number of features is found, the most important features will be selected and recursively tested. "
   ]
  },
  {
   "cell_type": "code",
   "execution_count": 59,
   "id": "annual-donna",
   "metadata": {},
   "outputs": [],
   "source": [
    "def recfe(target, data, algorithm):\n",
    "\n",
    "    classifier = algorithm\n",
    "    rfe = RFE(estimator=classifier, n_features_to_select= 1, step=1, verbose = 10) \n",
    "    rfe.fit(data,target)\n",
    "    optimal_features = rfe.n_features_\n",
    "\n",
    "    print(f\"Optimal number of features using recursive feature elimination : {rfe.n_features_}\") \n"
   ]
  },
  {
   "cell_type": "code",
   "execution_count": 60,
   "id": "meaning-crawford",
   "metadata": {},
   "outputs": [
    {
     "name": "stdout",
     "output_type": "stream",
     "text": [
      "Fitting estimator with 15 features.\n",
      "Fitting estimator with 14 features.\n",
      "Fitting estimator with 13 features.\n",
      "Fitting estimator with 12 features.\n",
      "Fitting estimator with 11 features.\n",
      "Fitting estimator with 10 features.\n",
      "Fitting estimator with 9 features.\n",
      "Fitting estimator with 8 features.\n",
      "Fitting estimator with 7 features.\n",
      "Fitting estimator with 6 features.\n",
      "Fitting estimator with 5 features.\n",
      "Fitting estimator with 4 features.\n",
      "Fitting estimator with 3 features.\n",
      "Fitting estimator with 2 features.\n",
      "Optimal number of features using recursive feature elimination : 1\n"
     ]
    }
   ],
   "source": [
    "recfe(y_train_d,X_train_d, DecisionTreeClassifier(min_samples_split = 202))"
   ]
  },
  {
   "cell_type": "code",
   "execution_count": 61,
   "id": "46f2fcd3",
   "metadata": {},
   "outputs": [
    {
     "name": "stdout",
     "output_type": "stream",
     "text": [
      "Fitting estimator with 15 features.\n",
      "Fitting estimator with 14 features.\n",
      "Fitting estimator with 13 features.\n",
      "Fitting estimator with 12 features.\n",
      "Fitting estimator with 11 features.\n",
      "Fitting estimator with 10 features.\n",
      "Fitting estimator with 9 features.\n",
      "Fitting estimator with 8 features.\n",
      "Fitting estimator with 7 features.\n",
      "Fitting estimator with 6 features.\n",
      "Fitting estimator with 5 features.\n",
      "Fitting estimator with 4 features.\n",
      "Fitting estimator with 3 features.\n",
      "Fitting estimator with 2 features.\n",
      "Optimal number of features with Cross Validation is : 1\n"
     ]
    },
    {
     "data": {
      "image/png": "[encoded data removed]",
      "text/plain": [
       "<Figure size 576x396 with 1 Axes>"
      ]
     },
     "metadata": {},
     "output_type": "display_data"
    }
   ],
   "source": [
    "recfecv(y_train_d,X_train_d, DecisionTreeClassifier(min_samples_split = 202))"
   ]
  },
  {
   "cell_type": "code",
   "execution_count": 62,
   "id": "known-commissioner",
   "metadata": {},
   "outputs": [],
   "source": [
    "# using the best features with recursive feature elimination and 12 fold cross validation:\n",
    "\n",
    "\n",
    "X_train_ref_d = X_train_d['Count_6-12_months_late'].values\n",
    "X_train_ref_d = X_train_ref_d.reshape(-1, 1)\n",
    "\n",
    "X_test_ref_d = X_test_d['Count_6-12_months_late'].values\n",
    "X_test_ref_d= X_test_ref_d.reshape(-1, 1)"
   ]
  },
  {
   "cell_type": "code",
   "execution_count": 63,
   "id": "neural-broadway",
   "metadata": {},
   "outputs": [],
   "source": [
    "tree = DecisionTreeClassifier(min_samples_split = 202)\n",
    "tree.fit(X_train_ref_d, y_train_d)\n",
    "y_predict_f_d = tree.predict(X_test_ref_d)\n",
    "accuracy_ref = round(accuracy_score(y_test_d, y_predict_f_d)*100,3)"
   ]
  },
  {
   "cell_type": "code",
   "execution_count": 64,
   "id": "centered-differential",
   "metadata": {},
   "outputs": [
    {
     "name": "stdout",
     "output_type": "stream",
     "text": [
      "Accuracy after feature selection : 94.154 %\n"
     ]
    }
   ],
   "source": [
    "print(f'Accuracy after feature selection : {accuracy_ref } %') \n",
    "Accuracies_Tree['Recursive Feature Elimination'] = accuracy_ref"
   ]
  },
  {
   "cell_type": "markdown",
   "id": "84185d27",
   "metadata": {},
   "source": [
    "In this case, accuracy improved from 93.80% to 94.15%. The improvement is minimal but it is consistent with two of the models for which recursive feature elimination was applied."
   ]
  },
  {
   "attachments": {},
   "cell_type": "markdown",
   "id": "a118ad4b",
   "metadata": {},
   "source": [
    "## 6. Feature construction:\n",
    "\n",
    "So far, the accuracy has been slightly improved. Now, the possible combinations of feature engineering techniques are endless. In consequence, if the accuracy was improved for a particular model after appliying a previous feature engineering technique, that configuration was chosen and improved upon other methods. \n",
    "\n",
    "#### Using Polynomial Features"
   ]
  },
  {
   "cell_type": "markdown",
   "id": "e54bbd1f",
   "metadata": {},
   "source": [
    "### Logistic Regression"
   ]
  },
  {
   "cell_type": "code",
   "execution_count": 65,
   "id": "6f9706ef",
   "metadata": {},
   "outputs": [],
   "source": [
    "# Note, This process will not be done in a loop doe to the time it takes to work with 3 and 4 degree polynomial\n",
    "poly2 = PolynomialFeatures(2)\n",
    "poly3 = PolynomialFeatures(3)\n",
    "poly4 = PolynomialFeatures(4)"
   ]
  },
  {
   "cell_type": "code",
   "execution_count": 66,
   "id": "831b78ca",
   "metadata": {},
   "outputs": [],
   "source": [
    "# working with polynomial features degree 2\n",
    "X_train_l_poly2 = poly2.fit_transform(X_train_recv_l)\n",
    "X_test_l_poly2 = poly2.transform(X_test_recv_l)\n"
   ]
  },
  {
   "cell_type": "code",
   "execution_count": 67,
   "id": "657c7edc",
   "metadata": {},
   "outputs": [],
   "source": [
    "# working with polynomial features degree 3\n",
    "X_train_l_poly3 = poly3.fit_transform(X_train_recv_l)\n",
    "X_test_l_poly3 = poly3.transform(X_test_recv_l)"
   ]
  },
  {
   "cell_type": "code",
   "execution_count": 68,
   "id": "af5d9354",
   "metadata": {},
   "outputs": [],
   "source": [
    "# working with polynomial features degree 4\n",
    "X_train_l_poly4 = poly4.fit_transform(X_train_recv_l)\n",
    "X_test_l_poly4 = poly4.transform(X_test_recv_l)"
   ]
  },
  {
   "cell_type": "code",
   "execution_count": 69,
   "id": "43baf546",
   "metadata": {},
   "outputs": [
    {
     "name": "stdout",
     "output_type": "stream",
     "text": [
      "Logistic Regression Accuracy after applying polynomial feafures with degree 2 : 93.763 %\n"
     ]
    }
   ],
   "source": [
    "logclf = LogisticRegression(max_iter = 200, n_jobs = -1)\n",
    "logclf.fit(X_train_l_poly2, y_train_l)\n",
    "y_predict_l = logclf.predict(X_test_l_poly2)\n",
    "accuracy_poly2 = round(accuracy_score(y_test_l, y_predict_l)*100,3)\n",
    "print(f'Logistic Regression Accuracy after applying polynomial feafures with degree 2 : {accuracy_poly2 } %') \n",
    "Accuracies_Log['2 Degree Construction/RECFE'] = accuracy_poly2"
   ]
  },
  {
   "cell_type": "code",
   "execution_count": 70,
   "id": "cb3f3181",
   "metadata": {},
   "outputs": [
    {
     "name": "stdout",
     "output_type": "stream",
     "text": [
      "Logistic Regression Accuracy after applying polynomial feafures with degree 3 : 93.737 %\n"
     ]
    }
   ],
   "source": [
    "logclf = LogisticRegression(max_iter = 200, n_jobs = -1)\n",
    "logclf.fit(X_train_l_poly3, y_train_l)\n",
    "y_predict_l = logclf.predict(X_test_l_poly3)\n",
    "accuracy_poly3 = round(accuracy_score(y_test_l, y_predict_l)*100,3)\n",
    "print(f'Logistic Regression Accuracy after applying polynomial feafures with degree 3 : {accuracy_poly3} %') \n",
    "Accuracies_Log['3 Degree Construction/RECFE'] = accuracy_poly3"
   ]
  },
  {
   "cell_type": "code",
   "execution_count": 71,
   "id": "62c938ba",
   "metadata": {},
   "outputs": [
    {
     "name": "stdout",
     "output_type": "stream",
     "text": [
      "Logistic Regression Accuracy after applying polynomial feafures with degree 4 : 93.737 %\n"
     ]
    }
   ],
   "source": [
    "logclf = LogisticRegression(max_iter = 200, n_jobs = -1)\n",
    "logclf.fit(X_train_l_poly4, y_train_l)\n",
    "y_predict_l = logclf.predict(X_test_l_poly4)\n",
    "accuracy_poly4 = round(accuracy_score(y_test_l, y_predict_l)*100,3)\n",
    "print(f'Logistic Regression Accuracy after applying polynomial feafures with degree 4 : {accuracy_poly4 } %')\n",
    "Accuracies_Log['3 Degree Construction/RECFE'] = accuracy_poly4"
   ]
  },
  {
   "cell_type": "markdown",
   "id": "5ebf6de0",
   "metadata": {},
   "source": [
    "In this case, accuracy did not improved "
   ]
  },
  {
   "cell_type": "markdown",
   "id": "39f8c485",
   "metadata": {},
   "source": [
    "### KNN"
   ]
  },
  {
   "cell_type": "code",
   "execution_count": 72,
   "id": "e8ff3e6d",
   "metadata": {},
   "outputs": [],
   "source": [
    "poly2 = PolynomialFeatures(2)\n",
    "poly3 = PolynomialFeatures(3)\n",
    "poly4 = PolynomialFeatures(3)"
   ]
  },
  {
   "cell_type": "code",
   "execution_count": 73,
   "id": "ac42777a",
   "metadata": {},
   "outputs": [],
   "source": [
    "# working with polynomial features degree 2\n",
    "X_train_k_poly2 = poly2.fit_transform(X_train_std)\n",
    "X_test_k_poly2 = poly2.transform(X_test_std)"
   ]
  },
  {
   "cell_type": "code",
   "execution_count": 74,
   "id": "fe410fed",
   "metadata": {},
   "outputs": [],
   "source": [
    "# working with polynomial features degree 3\n",
    "X_train_k_poly3 = poly3.fit_transform(X_train_std)\n",
    "X_test_k_poly3 = poly3.transform(X_test_std)"
   ]
  },
  {
   "cell_type": "code",
   "execution_count": 75,
   "id": "563cc48a",
   "metadata": {},
   "outputs": [],
   "source": [
    "# working with polynomial features degree 4\n",
    "X_train_k_poly4 = poly4.fit_transform(X_train_std)\n",
    "X_test_k_poly4 = poly4.transform(X_test_std)"
   ]
  },
  {
   "cell_type": "code",
   "execution_count": 76,
   "id": "7512b8a5",
   "metadata": {},
   "outputs": [
    {
     "name": "stdout",
     "output_type": "stream",
     "text": [
      "KNN Accuracy after applying polynomial feafures with degree 2 : 93.976 %\n"
     ]
    }
   ],
   "source": [
    "knn = KNeighborsClassifier(n_neighbors = 11, n_jobs = -1)\n",
    "knn.fit(X_train_k_poly2, y_train_k)\n",
    "y_predict_k = knn.predict(X_test_k_poly2)\n",
    "accuracy_poly2 = round(accuracy_score(y_test_k, y_predict_k)*100,3)\n",
    "print(f'KNN Accuracy after applying polynomial feafures with degree 2 : {accuracy_poly2 } %') \n",
    "Accuracies_KNN['2 Degree Construction/Standard'] = accuracy_poly2"
   ]
  },
  {
   "cell_type": "code",
   "execution_count": 77,
   "id": "65bfb216",
   "metadata": {},
   "outputs": [
    {
     "name": "stdout",
     "output_type": "stream",
     "text": [
      "KNN Accuracy after applying polynomial feafures with degree 3 : 93.95 %\n"
     ]
    }
   ],
   "source": [
    "knn = KNeighborsClassifier(n_neighbors = 11, n_jobs = -1)\n",
    "knn.fit(X_train_k_poly3, y_train_k)\n",
    "y_predict_k = knn.predict(X_test_k_poly3)\n",
    "accuracy_poly3 = round(accuracy_score(y_test_k, y_predict_k)*100,3)\n",
    "print(f'KNN Accuracy after applying polynomial feafures with degree 3 : {accuracy_poly3} %') \n",
    "Accuracies_KNN['3 Degree Construction/Standard'] = accuracy_poly3"
   ]
  },
  {
   "cell_type": "code",
   "execution_count": 78,
   "id": "32c336e4",
   "metadata": {},
   "outputs": [
    {
     "name": "stdout",
     "output_type": "stream",
     "text": [
      "KNN Accuracy after applying polynomial feafures with degree 4 : 93.95 %\n"
     ]
    }
   ],
   "source": [
    "knn = KNeighborsClassifier(n_neighbors = 11, n_jobs = -1)\n",
    "knn.fit(X_train_k_poly4, y_train_k)\n",
    "y_predict_k = knn.predict(X_test_k_poly4)\n",
    "accuracy_poly4 = round(accuracy_score(y_test_k, y_predict_k)*100,3)\n",
    "print(f'KNN Accuracy after applying polynomial feafures with degree 4 : {accuracy_poly4 } %') \n",
    "Accuracies_KNN['3 Degree Construction/Standard'] = accuracy_poly3"
   ]
  },
  {
   "cell_type": "markdown",
   "id": "a836aa8b",
   "metadata": {},
   "source": [
    "For this classifier, the accuracy did not improved at all."
   ]
  },
  {
   "cell_type": "markdown",
   "id": "aa098bf4",
   "metadata": {},
   "source": [
    "### Decision Trees:"
   ]
  },
  {
   "cell_type": "code",
   "execution_count": 79,
   "id": "e1b95c73",
   "metadata": {},
   "outputs": [],
   "source": [
    "poly2 = PolynomialFeatures(2)\n",
    "poly3 = PolynomialFeatures(3)\n",
    "poly4 = PolynomialFeatures(3)"
   ]
  },
  {
   "cell_type": "code",
   "execution_count": 80,
   "id": "5333deb1",
   "metadata": {},
   "outputs": [],
   "source": [
    "# working with polynomial features degree 2\n",
    "X_train_d_poly2 = poly2.fit_transform(X_train_ref_d)\n",
    "X_test_d_poly2 = poly2.transform(X_test_ref_d)\n"
   ]
  },
  {
   "cell_type": "code",
   "execution_count": 81,
   "id": "3c90df21",
   "metadata": {},
   "outputs": [],
   "source": [
    "# working with polynomial features degree 3\n",
    "X_train_d_poly3 = poly3.fit_transform(X_train_ref_d)\n",
    "X_test_d_poly3 = poly3.transform(X_test_ref_d)"
   ]
  },
  {
   "cell_type": "code",
   "execution_count": 82,
   "id": "e7bc144d",
   "metadata": {},
   "outputs": [],
   "source": [
    "# working with polynomial features degree 4\n",
    "X_train_d_poly4 = poly4.fit_transform(X_train_ref_d)\n",
    "X_test_d_poly4 = poly4.transform(X_test_ref_d)"
   ]
  },
  {
   "cell_type": "code",
   "execution_count": 83,
   "id": "f9541dc6",
   "metadata": {},
   "outputs": [
    {
     "name": "stdout",
     "output_type": "stream",
     "text": [
      "Desicion Tree Accuracy after appliying polynomial feafures with degree 2 : 94.154 %\n"
     ]
    }
   ],
   "source": [
    "tree = DecisionTreeClassifier(min_samples_split = 202)\n",
    "tree.fit(X_train_d_poly2, y_train_d)\n",
    "y_predict_d = tree.predict(X_test_d_poly2)\n",
    "accuracy_poly2 = round(accuracy_score(y_test_d, y_predict_d)*100,3)\n",
    "print(f'Desicion Tree Accuracy after appliying polynomial feafures with degree 2 : {accuracy_poly2 } %') \n",
    "Accuracies_Tree['2 Degree Construction\\RECFE'] = accuracy_poly2"
   ]
  },
  {
   "cell_type": "code",
   "execution_count": 84,
   "id": "1e9684f0",
   "metadata": {},
   "outputs": [
    {
     "name": "stdout",
     "output_type": "stream",
     "text": [
      "Desicion Tree Accuracy after appliying polynomial feafures with degree 3 : 94.154 %\n"
     ]
    }
   ],
   "source": [
    "tree = DecisionTreeClassifier(min_samples_split = 202)\n",
    "tree.fit(X_train_d_poly3, y_train_d)\n",
    "y_predict_d = tree.predict(X_test_d_poly3)\n",
    "accuracy_poly3 = round(accuracy_score(y_test_d, y_predict_d)*100,3)\n",
    "print(f'Desicion Tree Accuracy after appliying polynomial feafures with degree 3 : {accuracy_poly3 } %') \n",
    "Accuracies_Tree['3 Degree Construction\\RECFE'] = accuracy_poly2"
   ]
  },
  {
   "cell_type": "code",
   "execution_count": 85,
   "id": "eb1800cb",
   "metadata": {},
   "outputs": [
    {
     "name": "stdout",
     "output_type": "stream",
     "text": [
      "Desicion Tree Accuracy after appliying polynomial feafures with degree 4 : 94.154 %\n"
     ]
    }
   ],
   "source": [
    "tree = DecisionTreeClassifier(min_samples_split = 202)\n",
    "tree.fit(X_train_d_poly4, y_train_d)\n",
    "y_predict_d = tree.predict(X_test_d_poly4)\n",
    "accuracy_poly4 = round(accuracy_score(y_test_d, y_predict_d)*100,3)\n",
    "print(f'Desicion Tree Accuracy after appliying polynomial feafures with degree 4 : {accuracy_poly4 } %') \n",
    "Accuracies_Tree['4 Degree Construction\\RECFE'] = accuracy_poly2"
   ]
  },
  {
   "cell_type": "markdown",
   "id": "bd68f933",
   "metadata": {},
   "source": [
    "In this case, accuracy did not improve when using polynomial features. It remained the same "
   ]
  },
  {
   "cell_type": "code",
   "execution_count": 86,
   "id": "008041df",
   "metadata": {},
   "outputs": [],
   "source": [
    "# consulted:\n",
    "# https://scikit-learn.org/stable/modules/generated/sklearn.preprocessing.PolynomialFeatures.html\n",
    "# (Ozdemir, Susarla) Feature engeneering made easy"
   ]
  },
  {
   "cell_type": "markdown",
   "id": "proof-bahamas",
   "metadata": {},
   "source": [
    "## 7. Feature Transformation"
   ]
  },
  {
   "cell_type": "markdown",
   "id": "satisfactory-metropolitan",
   "metadata": {},
   "source": [
    "#### Principal component analysis:\n",
    "\n",
    "As an alternative to recursive feature elimination, Principal Component Analysis was used to reduce the number of features. This approach is obviously not cummulative with recursive feature elimination approach."
   ]
  },
  {
   "cell_type": "markdown",
   "id": "cb34ffca",
   "metadata": {},
   "source": [
    "## Logistic Regression"
   ]
  },
  {
   "cell_type": "code",
   "execution_count": 87,
   "id": "6a08bae0",
   "metadata": {},
   "outputs": [],
   "source": [
    "def pca_accuracies(ncomponents, X_train, X_test, y_train, y_test, algorithm):\n",
    "    components = range(1,ncomponents+1)\n",
    "    accuracy_pca = []\n",
    "    for c in components:\n",
    "        pca = PCA(n_components=c)\n",
    "        pca.fit(X_train_d)\n",
    "        X_train_pca = pca.transform(X_train) \n",
    "        X_test_pca = pca.transform(X_test)\n",
    "        clf = algorithm\n",
    "        clf.fit(X_train_pca, y_train)\n",
    "        y_predict = clf.predict(X_test_pca)\n",
    "        accuracy_pca.append(round(accuracy_score(y_test, y_predict)*100,3))\n",
    "\n",
    "    plt.plot(components, accuracy_pca, linestyle ='dashed', marker = 'o', color = 'purple') \n",
    "    plt.xticks(components)\n",
    "    plt.title('Number of components vs Accuracy')\n",
    "    plt.xlabel('Number of Components')\n",
    "    plt.ylabel('Accuracy (in percentage)')\n",
    "\n",
    "    plt.show()\n",
    "    "
   ]
  },
  {
   "cell_type": "code",
   "execution_count": 88,
   "id": "5d51b412",
   "metadata": {},
   "outputs": [
    {
     "data": {
      "image/png": "[encoded data removed]",
      "text/plain": [
       "<Figure size 576x396 with 1 Axes>"
      ]
     },
     "metadata": {},
     "output_type": "display_data"
    }
   ],
   "source": [
    "pca_accuracies(15,X_train_l, X_test_l, y_train_l, y_test_l, LogisticRegression(max_iter = 200, n_jobs = -1) )"
   ]
  },
  {
   "cell_type": "code",
   "execution_count": 89,
   "id": "987c8004",
   "metadata": {},
   "outputs": [],
   "source": [
    "# consulted: https://scikit-learn.org/stable/modules/generated/sklearn.decomposition.PCA.html\n",
    "# (Ozdemir, Susarla) Feature engeneering made easy"
   ]
  },
  {
   "cell_type": "code",
   "execution_count": 90,
   "id": "66266f2a",
   "metadata": {},
   "outputs": [],
   "source": [
    "pca = PCA(n_components=15)\n",
    "pca.fit(X_train_l)\n",
    "X_train_l_pca = pca.transform(X_train_l) \n",
    "X_test_l_pca = pca.transform(X_test_l) "
   ]
  },
  {
   "cell_type": "code",
   "execution_count": 91,
   "id": "27f83ae5",
   "metadata": {},
   "outputs": [
    {
     "name": "stdout",
     "output_type": "stream",
     "text": [
      "[9.93296033e-01 6.70291733e-03 9.56327276e-07 2.06211677e-08\n",
      " 1.82536243e-08 1.78827753e-08 1.25388304e-08 6.69810058e-09\n",
      " 6.56697330e-09 4.15786666e-09 3.33345122e-09 3.04815678e-09\n",
      " 3.66331777e-10 2.92377722e-37 6.21272021e-40]\n"
     ]
    }
   ],
   "source": [
    "print(pca.explained_variance_ratio_)"
   ]
  },
  {
   "cell_type": "code",
   "execution_count": 92,
   "id": "d2acb428",
   "metadata": {},
   "outputs": [
    {
     "name": "stdout",
     "output_type": "stream",
     "text": [
      "Accuracy after using pca with 15 component : 93.824 %\n"
     ]
    }
   ],
   "source": [
    "logclf = LogisticRegression(max_iter = 200, n_jobs = -1)\n",
    "logclf.fit(X_train_l_pca, y_train_l)\n",
    "y_predict_l = logclf.predict(X_test_l_pca)\n",
    "accuracy_pca = round(accuracy_score(y_test_l, y_predict_l)*100,3)\n",
    "print(f'Accuracy after using pca with 15 component : {accuracy_pca} %') \n",
    "Accuracies_Log['PCA'] = accuracy_pca"
   ]
  },
  {
   "cell_type": "markdown",
   "id": "8bcb670c",
   "metadata": {},
   "source": [
    "#### Linear Discriminant Analysis:\n"
   ]
  },
  {
   "cell_type": "code",
   "execution_count": 93,
   "id": "986512d6",
   "metadata": {},
   "outputs": [],
   "source": [
    "def lda(x_train,x_test, y_train, y_test, algorithm):\n",
    "    lda = LinearDiscriminantAnalysis(n_components=1)\n",
    "    lda.fit(x_train, y_train)\n",
    "    x_train = lda.transform(x_train) \n",
    "    x_test = lda.transform(x_test)\n",
    "    tree = algorithm\n",
    "    tree.fit(x_train, y_train)\n",
    "    y_predict = tree.predict(x_test)\n",
    "    accuracy_lda = round(accuracy_score(y_test, y_predict)*100,3)\n",
    "    \n",
    "    return accuracy_lda"
   ]
  },
  {
   "cell_type": "code",
   "execution_count": 94,
   "id": "dd29d569",
   "metadata": {},
   "outputs": [
    {
     "name": "stdout",
     "output_type": "stream",
     "text": [
      "Logistic Regression Accuracy after using lda from from pca : 93.837 %\n"
     ]
    }
   ],
   "source": [
    "# using linear discriminant analysis with results from one component PCA\n",
    "\n",
    "print(f'Logistic Regression Accuracy after using lda from from pca : {lda(X_train_l_pca,X_test_l_pca, y_train_l, y_test_l, LogisticRegression(max_iter = 200, n_jobs = -1))} %')\n",
    "Accuracies_Log['PCA\\LDA'] = lda(X_train_l_pca,X_test_l_pca, y_train_l, y_test_l, LogisticRegression(max_iter = 200, n_jobs = -1)) "
   ]
  },
  {
   "cell_type": "code",
   "execution_count": 95,
   "id": "cf4e2219",
   "metadata": {},
   "outputs": [],
   "source": [
    "# using linear discriminant analysis with results from one from best feature using recursive feature elimination"
   ]
  },
  {
   "cell_type": "code",
   "execution_count": 96,
   "id": "3384a6bf",
   "metadata": {},
   "outputs": [
    {
     "name": "stdout",
     "output_type": "stream",
     "text": [
      "Logistic Regression Accuracy after using lda from best feature using recursive feature elimination : 93.763 %\n"
     ]
    }
   ],
   "source": [
    "print(f'Logistic Regression Accuracy after using lda from best feature using recursive feature elimination : {lda(X_train_recv_l,X_test_recv_l, y_train_l, y_test_l,LogisticRegression(max_iter = 200, n_jobs = -1))} %') "
   ]
  },
  {
   "cell_type": "code",
   "execution_count": 97,
   "id": "98554212",
   "metadata": {},
   "outputs": [
    {
     "name": "stdout",
     "output_type": "stream",
     "text": [
      "Logistic Regression Accuracy after using lda from best feature using recursive feature elimination and polynomial features degree 2: 93.802 %\n"
     ]
    }
   ],
   "source": [
    "print(f'Logistic Regression Accuracy after using lda from best feature using recursive feature elimination and polynomial features degree 2: {lda(X_train_l_poly2,X_test_l_poly2, y_train_l, y_test_l,LogisticRegression(max_iter = 200, n_jobs = -1))} %')\n",
    "Accuracies_Log['RECFE\\LDA\\poly2'] = lda(X_train_l_poly2,X_test_l_poly2, y_train_l, y_test_l,LogisticRegression(max_iter = 200, n_jobs = -1)) "
   ]
  },
  {
   "cell_type": "markdown",
   "id": "a8100513",
   "metadata": {},
   "source": [
    "Using linear discriminant analysis after peroforming recursive feature elimination managed to slightly improve the model fro 93.815% to 93.837%.\n",
    "\n",
    "using LDA with PCA also magaged to improve the model. From 93.815% to 93.824%\n",
    "\n",
    "\n",
    "\n"
   ]
  },
  {
   "cell_type": "markdown",
   "id": "d4d79a4d",
   "metadata": {},
   "source": [
    "## KNN"
   ]
  },
  {
   "cell_type": "markdown",
   "id": "alert-minneapolis",
   "metadata": {},
   "source": [
    "#### Principal component analysis:"
   ]
  },
  {
   "cell_type": "code",
   "execution_count": 98,
   "id": "6068991d",
   "metadata": {},
   "outputs": [
    {
     "data": {
      "image/png": "[encoded data removed]",
      "text/plain": [
       "<Figure size 576x396 with 1 Axes>"
      ]
     },
     "metadata": {},
     "output_type": "display_data"
    }
   ],
   "source": [
    "pca_accuracies(15,X_train_std, X_test_std, y_train_k, y_test_k, KNeighborsClassifier(n_neighbors = 11, n_jobs = -1))"
   ]
  },
  {
   "cell_type": "code",
   "execution_count": 99,
   "id": "1ae9bb61",
   "metadata": {},
   "outputs": [],
   "source": [
    "pca = PCA(n_components=13)\n",
    "pca.fit(X_train_std)\n",
    "X_train_k_pca = pca.transform(X_train_std) \n",
    "X_test_k_pca = pca.transform(X_test_std) "
   ]
  },
  {
   "cell_type": "code",
   "execution_count": 100,
   "id": "174c1090",
   "metadata": {},
   "outputs": [
    {
     "name": "stdout",
     "output_type": "stream",
     "text": [
      "[0.1333567  0.12817138 0.10674336 0.0897227  0.08403884 0.07571956\n",
      " 0.07358071 0.0674822  0.06001394 0.05169335 0.0474394  0.04439602\n",
      " 0.03764184]\n"
     ]
    }
   ],
   "source": [
    "print(pca.explained_variance_ratio_)"
   ]
  },
  {
   "cell_type": "code",
   "execution_count": 101,
   "id": "994f25c5",
   "metadata": {},
   "outputs": [
    {
     "name": "stdout",
     "output_type": "stream",
     "text": [
      "KNN Accuracy after using lda from from pca : 93.88 %\n"
     ]
    }
   ],
   "source": [
    "# using linear discriminant analysis with results from one component PCA\n",
    "\n",
    "print(f'KNN Accuracy after using lda from from pca : {lda(X_train_k_pca,X_test_k_pca, y_train_k, y_test_k, KNeighborsClassifier(n_neighbors = 11, n_jobs = -1))} %')\n",
    "Accuracies_KNN['PCA\\LDA\\Standard'] = lda(X_train_k_pca,X_test_k_pca, y_train_k, y_test_k, KNeighborsClassifier(n_neighbors = 11, n_jobs = -1))"
   ]
  },
  {
   "cell_type": "markdown",
   "id": "characteristic-hamilton",
   "metadata": {},
   "source": [
    "The accuracy for this approach did not improved."
   ]
  },
  {
   "cell_type": "markdown",
   "id": "ad58599d",
   "metadata": {},
   "source": [
    "## Decision Tree"
   ]
  },
  {
   "cell_type": "markdown",
   "id": "flexible-standard",
   "metadata": {},
   "source": [
    "#### Principal component analysis:"
   ]
  },
  {
   "cell_type": "code",
   "execution_count": 102,
   "id": "a53523cc",
   "metadata": {},
   "outputs": [
    {
     "data": {
      "image/png": "[encoded data removed]",
      "text/plain": [
       "<Figure size 576x396 with 1 Axes>"
      ]
     },
     "metadata": {},
     "output_type": "display_data"
    }
   ],
   "source": [
    "pca_accuracies(15,X_train_d, X_test_d, y_train_d, y_test_d, DecisionTreeClassifier(min_samples_split = 202))"
   ]
  },
  {
   "cell_type": "code",
   "execution_count": 103,
   "id": "bab864aa",
   "metadata": {},
   "outputs": [],
   "source": [
    "pca = PCA(n_components=11)\n",
    "pca.fit(X_train_d)\n",
    "X_train_d_pca = pca.transform(X_train_d) \n",
    "X_test_d_pca = pca.transform(X_test_d) "
   ]
  },
  {
   "cell_type": "code",
   "execution_count": 104,
   "id": "2f4a0b1f",
   "metadata": {},
   "outputs": [
    {
     "name": "stdout",
     "output_type": "stream",
     "text": [
      "[9.97060401e-01 2.93854730e-03 9.57597347e-07 2.05666566e-08\n",
      " 1.83307655e-08 1.76919266e-08 1.25520563e-08 7.08356532e-09\n",
      " 6.65039625e-09 4.21396867e-09 3.38070747e-09]\n"
     ]
    }
   ],
   "source": [
    "print(pca.explained_variance_ratio_)"
   ]
  },
  {
   "cell_type": "code",
   "execution_count": 105,
   "id": "c33522b5",
   "metadata": {},
   "outputs": [
    {
     "name": "stdout",
     "output_type": "stream",
     "text": [
      "Decision Tree Accuracy after using lda from from pca : 93.559 %\n",
      "Decision Tree Accuracy after using lda from from recursive feature elimination : 94.154 %\n"
     ]
    }
   ],
   "source": [
    "# using linear discriminant analysis with results from one component PCA\n",
    "\n",
    "print(f'Decision Tree Accuracy after using lda from from pca : {lda(X_train_d_pca,X_test_d_pca, y_train_d, y_test_d, DecisionTreeClassifier(min_samples_split = 202))} %') \n",
    "Accuracies_Tree['PCA\\LDA'] = lda(X_train_d_pca,X_test_d_pca, y_train_d, y_test_d, DecisionTreeClassifier(min_samples_split = 202))\n",
    "print(f'Decision Tree Accuracy after using lda from from recursive feature elimination : {lda(X_train_ref_d,X_test_ref_d, y_train_d, y_test_d, DecisionTreeClassifier(min_samples_split = 202))} %')\n",
    "Accuracies_Tree['RECFE\\LDA'] = lda(X_train_ref_d,X_test_ref_d, y_train_d, y_test_d, DecisionTreeClassifier(min_samples_split = 202))"
   ]
  },
  {
   "cell_type": "markdown",
   "id": "0f67fabe",
   "metadata": {},
   "source": [
    "This model, after performing linear discriminant analysis, did not improved the accuracy of the model at all."
   ]
  },
  {
   "cell_type": "markdown",
   "id": "2c7ab163",
   "metadata": {},
   "source": [
    "## 8 Feature Learning:"
   ]
  },
  {
   "cell_type": "markdown",
   "id": "63f60e84",
   "metadata": {},
   "source": [
    "## Logistic Regression"
   ]
  },
  {
   "cell_type": "code",
   "execution_count": 106,
   "id": "elementary-license",
   "metadata": {},
   "outputs": [],
   "source": [
    "def rbm(x_train,x_test, y_train, y_test, algorithm, n_iter = 100, n_components = 256):\n",
    "    rmb = BernoulliRBM(random_state = 10, n_iter = n_iter, n_components = n_components)\n",
    "    rmb.fit(x_train)\n",
    "    x_train_r = rmb.transform(x_train) \n",
    "    x_test_r = rmb.transform(x_test)\n",
    "    clf = algorithm\n",
    "    clf.fit(x_train_r, y_train)\n",
    "    y_predict = clf.predict(x_test_r)\n",
    "    accuracy_rbm = round(accuracy_score(y_test, y_predict)*100,3)\n",
    "    print(f\"Accurary for {algorithm}: {accuracy_rbm}\") \n",
    "    return accuracy_rbm\n",
    "\n",
    "# consulted: https://scikit-learn.org/stable/modules/generated/sklearn.neural_network.BernoulliRBM.html\n",
    "# (Ozdemir, Susarla) Feature engeneering made easy"
   ]
  },
  {
   "cell_type": "code",
   "execution_count": 107,
   "id": "gentle-bunny",
   "metadata": {},
   "outputs": [],
   "source": [
    "# Using PCA Results:"
   ]
  },
  {
   "cell_type": "code",
   "execution_count": 108,
   "id": "surrounded-composite",
   "metadata": {},
   "outputs": [
    {
     "name": "stdout",
     "output_type": "stream",
     "text": [
      "Accurary for LogisticRegression(max_iter=200, n_jobs=-1): 93.494\n"
     ]
    }
   ],
   "source": [
    "rbm_pca = rbm(X_train_l_pca,X_test_l_pca, y_train_l, y_test_l,LogisticRegression(max_iter = 200, n_jobs = -1))\n",
    "Accuracies_Log['RBM\\PCA'] = rbm_pca"
   ]
  },
  {
   "cell_type": "code",
   "execution_count": 109,
   "id": "wired-exhaust",
   "metadata": {},
   "outputs": [],
   "source": [
    "# Using Recursive Feature Elimination Results:"
   ]
  },
  {
   "cell_type": "code",
   "execution_count": 110,
   "id": "solar-astrology",
   "metadata": {},
   "outputs": [
    {
     "name": "stdout",
     "output_type": "stream",
     "text": [
      "Accurary for LogisticRegression(max_iter=200, n_jobs=-1): 93.499\n"
     ]
    }
   ],
   "source": [
    "rbm_recv = rbm(X_train_recv_l,X_test_recv_l, y_train_l, y_test_l, LogisticRegression(max_iter = 200, n_jobs = -1))\n",
    "Accuracies_Log['RBM\\RECFE'] = rbm_recv"
   ]
  },
  {
   "cell_type": "code",
   "execution_count": 111,
   "id": "8b5928fa",
   "metadata": {},
   "outputs": [
    {
     "name": "stdout",
     "output_type": "stream",
     "text": [
      "Accurary for LogisticRegression(max_iter=200, n_jobs=-1): 93.624\n"
     ]
    }
   ],
   "source": [
    "X_train_l_poly2 = poly2.fit_transform(X_train_recv_l)\n",
    "X_test_l_poly2 = poly2.transform(X_test_recv_l)\n",
    "\n",
    "rbm_recv_poly2 = rbm(X_train_l_poly2, X_test_l_poly2, y_train_l, y_test_l, LogisticRegression(max_iter = 200, n_jobs = -1))\n",
    "\n",
    "Accuracies_Log['2 Degree RBM\\RECFE'] = rbm_recv_poly2\n",
    "\n"
   ]
  },
  {
   "cell_type": "markdown",
   "id": "51c359e2",
   "metadata": {},
   "source": [
    "## KNN"
   ]
  },
  {
   "cell_type": "code",
   "execution_count": 112,
   "id": "julian-attack",
   "metadata": {},
   "outputs": [],
   "source": [
    "# Using PCA Results: "
   ]
  },
  {
   "cell_type": "code",
   "execution_count": 113,
   "id": "assisted-friendship",
   "metadata": {},
   "outputs": [
    {
     "name": "stdout",
     "output_type": "stream",
     "text": [
      "Accurary for KNeighborsClassifier(n_jobs=-1, n_neighbors=11): 93.82\n"
     ]
    }
   ],
   "source": [
    "rbm_knn = rbm(X_train_k_pca,X_test_k_pca, y_train_k, y_test_k,KNeighborsClassifier(n_neighbors = 11, n_jobs = -1))\n",
    "Accuracies_KNN['RBM\\PCA\\Standard'] = rbm_knn"
   ]
  },
  {
   "cell_type": "markdown",
   "id": "fc823542",
   "metadata": {},
   "source": [
    "## Decision Tree"
   ]
  },
  {
   "cell_type": "code",
   "execution_count": 114,
   "id": "structural-master",
   "metadata": {},
   "outputs": [],
   "source": [
    "# Using PCA Results:"
   ]
  },
  {
   "cell_type": "code",
   "execution_count": 115,
   "id": "apparent-ceramic",
   "metadata": {},
   "outputs": [
    {
     "name": "stdout",
     "output_type": "stream",
     "text": [
      "Accurary for DecisionTreeClassifier(min_samples_split=202): 94.071\n"
     ]
    }
   ],
   "source": [
    "rbm_tree_pca = rbm(X_train_d_pca,X_test_d_pca, y_train_d, y_test_d,DecisionTreeClassifier(min_samples_split = 202))\n",
    "Accuracies_Tree['RMB\\PCA'] = rbm_tree_pca"
   ]
  },
  {
   "cell_type": "code",
   "execution_count": 116,
   "id": "christian-success",
   "metadata": {},
   "outputs": [],
   "source": [
    "# Using Recursive Feature Elimination Results:"
   ]
  },
  {
   "cell_type": "code",
   "execution_count": 117,
   "id": "listed-justice",
   "metadata": {},
   "outputs": [
    {
     "name": "stdout",
     "output_type": "stream",
     "text": [
      "Accurary for DecisionTreeClassifier(min_samples_split=202): 94.071\n"
     ]
    }
   ],
   "source": [
    "rbm_tree_recv = rbm(X_train_ref_d,X_test_ref_d, y_train_d, y_test_d, DecisionTreeClassifier(min_samples_split = 202))\n",
    "Accuracies_Tree['RMB\\RECFE'] = rbm_tree_recv"
   ]
  },
  {
   "cell_type": "markdown",
   "id": "0db13c15",
   "metadata": {},
   "source": [
    "### Summary of results:\n",
    "\n",
    "Pargraph and Table with technique and accuracy results:\n",
    "\n"
   ]
  },
  {
   "cell_type": "code",
   "execution_count": 118,
   "id": "93e7b9df",
   "metadata": {},
   "outputs": [
    {
     "data": {
      "text/plain": [
       "[75.10951121134579,\n",
       " 76.73591534024375,\n",
       " 78.06739818710153,\n",
       " 93.82,\n",
       " 93.854,\n",
       " 93.88,\n",
       " 93.95,\n",
       " 93.976,\n",
       " 93.98447326191612,\n",
       " 94.03218111636379]"
      ]
     },
     "execution_count": 118,
     "metadata": {},
     "output_type": "execute_result"
    }
   ],
   "source": [
    "#list(Accuracies_KNN.keys())\n",
    "#list(Accuracies_KNN.values())\n",
    "sorted(list(Accuracies_KNN.values()))"
   ]
  },
  {
   "cell_type": "markdown",
   "id": "injured-analyst",
   "metadata": {},
   "source": [
    "##### Detailed Results"
   ]
  },
  {
   "cell_type": "code",
   "execution_count": 119,
   "id": "statistical-contractor",
   "metadata": {},
   "outputs": [],
   "source": [
    "def accuracy_ranking(techniques, accuracies, algorithm, color = \"flare\"):\n",
    "    \n",
    "    data = {'Techniques': techniques, 'Accuracies': accuracies}\n",
    "    data_alg = pd.DataFrame(data = data)\n",
    "    data_alg = round(data_alg.sort_values(by = ['Accuracies']),3)\n",
    "    #plt.bar(data_knn['Techniques'],data_knn['Accuracies'], color = 'green' )\n",
    "    \n",
    "    ax = sns.barplot(x='Techniques', y='Accuracies', palette = color, data = data_alg)\n",
    "    plt.title(f'Performance ranking of {algorithm} algorithm with different feature engineering techniques')\n",
    "    plt.xticks(rotation = 90)\n",
    "    plt.ylabel('Accuracy (percentage)')\n",
    "    plt.xlabel('Techniques')\n",
    "    plt.ylim([70,95])\n",
    "    plt.show()\n",
    "    return data_alg\n",
    "# https://pandas.pydata.org/docs/reference/api/pandas.DataFrame.sort_values.html\n",
    "# https://stackabuse.com/rotate-axis-labels-in-matplotlib/\n",
    "# https://stackabuse.com/how-to-set-axis-range-xlim-ylim-in-matplotlib/\n",
    "# https://stackoverflow.com/questions/53577630/how-to-make-pareto-chart-in-python\n",
    "# https://www.geeksforgeeks.org/rotate-axis-tick-labels-in-seaborn-and-matplotlib/\n",
    "# https://seaborn.pydata.org/generated/seaborn.barplot.html\n",
    "# https://seaborn.pydata.org/generated/seaborn.color_palette.html"
   ]
  },
  {
   "cell_type": "markdown",
   "id": "12b24c1d",
   "metadata": {},
   "source": [
    "#### KNN"
   ]
  },
  {
   "cell_type": "code",
   "execution_count": 120,
   "id": "palestinian-yukon",
   "metadata": {},
   "outputs": [
    {
     "data": {
      "image/png": "[encoded data removed]",
      "text/plain": [
       "<Figure size 576x396 with 1 Axes>"
      ]
     },
     "metadata": {},
     "output_type": "display_data"
    },
    {
     "data": {
      "text/html": [
       "<div>\n",
       "<style scoped>\n",
       "    .dataframe tbody tr th:only-of-type {\n",
       "        vertical-align: middle;\n",
       "    }\n",
       "\n",
       "    .dataframe tbody tr th {\n",
       "        vertical-align: top;\n",
       "    }\n",
       "\n",
       "    .dataframe thead th {\n",
       "        text-align: right;\n",
       "    }\n",
       "</style>\n",
       "<table border=\"1\" class=\"dataframe\">\n",
       "  <thead>\n",
       "    <tr style=\"text-align: right;\">\n",
       "      <th></th>\n",
       "      <th>Techniques</th>\n",
       "      <th>Accuracies</th>\n",
       "    </tr>\n",
       "  </thead>\n",
       "  <tbody>\n",
       "    <tr>\n",
       "      <th>3</th>\n",
       "      <td>Standard/ADASYN</td>\n",
       "      <td>75.110</td>\n",
       "    </tr>\n",
       "    <tr>\n",
       "      <th>4</th>\n",
       "      <td>Standard/SMOTE</td>\n",
       "      <td>76.736</td>\n",
       "    </tr>\n",
       "    <tr>\n",
       "      <th>2</th>\n",
       "      <td>Standard/Random Resampling</td>\n",
       "      <td>78.067</td>\n",
       "    </tr>\n",
       "    <tr>\n",
       "      <th>9</th>\n",
       "      <td>RBM\\PCA\\Standard</td>\n",
       "      <td>93.820</td>\n",
       "    </tr>\n",
       "    <tr>\n",
       "      <th>5</th>\n",
       "      <td>Standard/Shapley</td>\n",
       "      <td>93.854</td>\n",
       "    </tr>\n",
       "    <tr>\n",
       "      <th>8</th>\n",
       "      <td>PCA\\LDA\\Standard</td>\n",
       "      <td>93.880</td>\n",
       "    </tr>\n",
       "    <tr>\n",
       "      <th>7</th>\n",
       "      <td>3 Degree Construction/Standard</td>\n",
       "      <td>93.950</td>\n",
       "    </tr>\n",
       "    <tr>\n",
       "      <th>6</th>\n",
       "      <td>2 Degree Construction/Standard</td>\n",
       "      <td>93.976</td>\n",
       "    </tr>\n",
       "    <tr>\n",
       "      <th>0</th>\n",
       "      <td>Min-Max Scaling</td>\n",
       "      <td>93.984</td>\n",
       "    </tr>\n",
       "    <tr>\n",
       "      <th>1</th>\n",
       "      <td>Standard Scaling</td>\n",
       "      <td>94.032</td>\n",
       "    </tr>\n",
       "  </tbody>\n",
       "</table>\n",
       "</div>"
      ],
      "text/plain": [
       "                       Techniques  Accuracies\n",
       "3                 Standard/ADASYN      75.110\n",
       "4                  Standard/SMOTE      76.736\n",
       "2      Standard/Random Resampling      78.067\n",
       "9                RBM\\PCA\\Standard      93.820\n",
       "5                Standard/Shapley      93.854\n",
       "8                PCA\\LDA\\Standard      93.880\n",
       "7  3 Degree Construction/Standard      93.950\n",
       "6  2 Degree Construction/Standard      93.976\n",
       "0                 Min-Max Scaling      93.984\n",
       "1                Standard Scaling      94.032"
      ]
     },
     "execution_count": 120,
     "metadata": {},
     "output_type": "execute_result"
    }
   ],
   "source": [
    "accuracy_ranking(list(Accuracies_KNN.keys()),list(Accuracies_KNN.values()), 'KNN', color = 'mako')"
   ]
  },
  {
   "attachments": {},
   "cell_type": "markdown",
   "id": "e6129fd7",
   "metadata": {},
   "source": [
    "Overall accuracy when using KNN classifier for this dataset did not improve. Standard scaling resulted to be slightly better than Min-Max Scaling, but the differences are very small that they may be not statistically significant."
   ]
  },
  {
   "cell_type": "markdown",
   "id": "ce818421",
   "metadata": {},
   "source": [
    "#### Logistic Regression"
   ]
  },
  {
   "cell_type": "code",
   "execution_count": 121,
   "id": "b030becb",
   "metadata": {},
   "outputs": [
    {
     "data": {
      "image/png": "[encoded data removed]",
      "text/plain": [
       "<Figure size 576x396 with 1 Axes>"
      ]
     },
     "metadata": {},
     "output_type": "display_data"
    },
    {
     "data": {
      "text/html": [
       "<div>\n",
       "<style scoped>\n",
       "    .dataframe tbody tr th:only-of-type {\n",
       "        vertical-align: middle;\n",
       "    }\n",
       "\n",
       "    .dataframe tbody tr th {\n",
       "        vertical-align: top;\n",
       "    }\n",
       "\n",
       "    .dataframe thead th {\n",
       "        text-align: right;\n",
       "    }\n",
       "</style>\n",
       "<table border=\"1\" class=\"dataframe\">\n",
       "  <thead>\n",
       "    <tr style=\"text-align: right;\">\n",
       "      <th></th>\n",
       "      <th>Techniques</th>\n",
       "      <th>Accuracies</th>\n",
       "    </tr>\n",
       "  </thead>\n",
       "  <tbody>\n",
       "    <tr>\n",
       "      <th>1</th>\n",
       "      <td>Random Resampling</td>\n",
       "      <td>80.535</td>\n",
       "    </tr>\n",
       "    <tr>\n",
       "      <th>3</th>\n",
       "      <td>SMOTE</td>\n",
       "      <td>89.804</td>\n",
       "    </tr>\n",
       "    <tr>\n",
       "      <th>2</th>\n",
       "      <td>ADASYN</td>\n",
       "      <td>89.899</td>\n",
       "    </tr>\n",
       "    <tr>\n",
       "      <th>10</th>\n",
       "      <td>RBM\\PCA</td>\n",
       "      <td>93.494</td>\n",
       "    </tr>\n",
       "    <tr>\n",
       "      <th>11</th>\n",
       "      <td>RBM\\RECFE</td>\n",
       "      <td>93.499</td>\n",
       "    </tr>\n",
       "    <tr>\n",
       "      <th>12</th>\n",
       "      <td>2 Degree RBM\\RECFE</td>\n",
       "      <td>93.624</td>\n",
       "    </tr>\n",
       "    <tr>\n",
       "      <th>6</th>\n",
       "      <td>3 Degree Construction/RECFE</td>\n",
       "      <td>93.737</td>\n",
       "    </tr>\n",
       "    <tr>\n",
       "      <th>5</th>\n",
       "      <td>2 Degree Construction/RECFE</td>\n",
       "      <td>93.763</td>\n",
       "    </tr>\n",
       "    <tr>\n",
       "      <th>4</th>\n",
       "      <td>Recursive Feature Elimination</td>\n",
       "      <td>93.802</td>\n",
       "    </tr>\n",
       "    <tr>\n",
       "      <th>9</th>\n",
       "      <td>RECFE\\LDA\\poly2</td>\n",
       "      <td>93.802</td>\n",
       "    </tr>\n",
       "    <tr>\n",
       "      <th>0</th>\n",
       "      <td>Original</td>\n",
       "      <td>93.815</td>\n",
       "    </tr>\n",
       "    <tr>\n",
       "      <th>7</th>\n",
       "      <td>PCA</td>\n",
       "      <td>93.824</td>\n",
       "    </tr>\n",
       "    <tr>\n",
       "      <th>8</th>\n",
       "      <td>PCA\\LDA</td>\n",
       "      <td>93.837</td>\n",
       "    </tr>\n",
       "  </tbody>\n",
       "</table>\n",
       "</div>"
      ],
      "text/plain": [
       "                       Techniques  Accuracies\n",
       "1               Random Resampling      80.535\n",
       "3                           SMOTE      89.804\n",
       "2                          ADASYN      89.899\n",
       "10                        RBM\\PCA      93.494\n",
       "11                      RBM\\RECFE      93.499\n",
       "12             2 Degree RBM\\RECFE      93.624\n",
       "6     3 Degree Construction/RECFE      93.737\n",
       "5     2 Degree Construction/RECFE      93.763\n",
       "4   Recursive Feature Elimination      93.802\n",
       "9                 RECFE\\LDA\\poly2      93.802\n",
       "0                        Original      93.815\n",
       "7                             PCA      93.824\n",
       "8                         PCA\\LDA      93.837"
      ]
     },
     "execution_count": 121,
     "metadata": {},
     "output_type": "execute_result"
    }
   ],
   "source": [
    "\n",
    "accuracy_ranking(list(Accuracies_Log.keys()),list(Accuracies_Log.values()), 'Logistic Regression', color = 'viridis')"
   ]
  },
  {
   "attachments": {},
   "cell_type": "markdown",
   "id": "e653054b",
   "metadata": {},
   "source": [
    "Overall accuracy when using Logistic Regression classifier showed a slight improvement when using some combination of techniques. PCA and PCA with linear discriminant analysis in order to further reduce number of features, managed to improved accuracy. However, it is highly possible that this improvement is not statistically significant."
   ]
  },
  {
   "cell_type": "markdown",
   "id": "111fc69e",
   "metadata": {},
   "source": [
    "#### Decision Tree"
   ]
  },
  {
   "cell_type": "code",
   "execution_count": 122,
   "id": "3693d189",
   "metadata": {},
   "outputs": [
    {
     "data": {
      "image/png": "[encoded data removed]",
      "text/plain": [
       "<Figure size 576x396 with 1 Axes>"
      ]
     },
     "metadata": {},
     "output_type": "display_data"
    },
    {
     "data": {
      "text/html": [
       "<div>\n",
       "<style scoped>\n",
       "    .dataframe tbody tr th:only-of-type {\n",
       "        vertical-align: middle;\n",
       "    }\n",
       "\n",
       "    .dataframe tbody tr th {\n",
       "        vertical-align: top;\n",
       "    }\n",
       "\n",
       "    .dataframe thead th {\n",
       "        text-align: right;\n",
       "    }\n",
       "</style>\n",
       "<table border=\"1\" class=\"dataframe\">\n",
       "  <thead>\n",
       "    <tr style=\"text-align: right;\">\n",
       "      <th></th>\n",
       "      <th>Techniques</th>\n",
       "      <th>Accuracies</th>\n",
       "    </tr>\n",
       "  </thead>\n",
       "  <tbody>\n",
       "    <tr>\n",
       "      <th>1</th>\n",
       "      <td>Random Resampling</td>\n",
       "      <td>78.215</td>\n",
       "    </tr>\n",
       "    <tr>\n",
       "      <th>2</th>\n",
       "      <td>ADASYN</td>\n",
       "      <td>92.705</td>\n",
       "    </tr>\n",
       "    <tr>\n",
       "      <th>3</th>\n",
       "      <td>SMOTE</td>\n",
       "      <td>92.866</td>\n",
       "    </tr>\n",
       "    <tr>\n",
       "      <th>8</th>\n",
       "      <td>PCA\\LDA</td>\n",
       "      <td>93.559</td>\n",
       "    </tr>\n",
       "    <tr>\n",
       "      <th>0</th>\n",
       "      <td>Original</td>\n",
       "      <td>93.798</td>\n",
       "    </tr>\n",
       "    <tr>\n",
       "      <th>10</th>\n",
       "      <td>RMB\\PCA</td>\n",
       "      <td>94.071</td>\n",
       "    </tr>\n",
       "    <tr>\n",
       "      <th>11</th>\n",
       "      <td>RMB\\RECFE</td>\n",
       "      <td>94.071</td>\n",
       "    </tr>\n",
       "    <tr>\n",
       "      <th>4</th>\n",
       "      <td>Recursive Feature Elimination</td>\n",
       "      <td>94.154</td>\n",
       "    </tr>\n",
       "    <tr>\n",
       "      <th>5</th>\n",
       "      <td>2 Degree Construction\\RECFE</td>\n",
       "      <td>94.154</td>\n",
       "    </tr>\n",
       "    <tr>\n",
       "      <th>6</th>\n",
       "      <td>3 Degree Construction\\RECFE</td>\n",
       "      <td>94.154</td>\n",
       "    </tr>\n",
       "    <tr>\n",
       "      <th>7</th>\n",
       "      <td>4 Degree Construction\\RECFE</td>\n",
       "      <td>94.154</td>\n",
       "    </tr>\n",
       "    <tr>\n",
       "      <th>9</th>\n",
       "      <td>RECFE\\LDA</td>\n",
       "      <td>94.154</td>\n",
       "    </tr>\n",
       "  </tbody>\n",
       "</table>\n",
       "</div>"
      ],
      "text/plain": [
       "                       Techniques  Accuracies\n",
       "1               Random Resampling      78.215\n",
       "2                          ADASYN      92.705\n",
       "3                           SMOTE      92.866\n",
       "8                         PCA\\LDA      93.559\n",
       "0                        Original      93.798\n",
       "10                        RMB\\PCA      94.071\n",
       "11                      RMB\\RECFE      94.071\n",
       "4   Recursive Feature Elimination      94.154\n",
       "5     2 Degree Construction\\RECFE      94.154\n",
       "6     3 Degree Construction\\RECFE      94.154\n",
       "7     4 Degree Construction\\RECFE      94.154\n",
       "9                       RECFE\\LDA      94.154"
      ]
     },
     "execution_count": 122,
     "metadata": {},
     "output_type": "execute_result"
    }
   ],
   "source": [
    "accuracy_ranking(list(Accuracies_Tree.keys()),list(Accuracies_Tree.values()), 'Decision Tree', color = 'magma')"
   ]
  },
  {
   "cell_type": "markdown",
   "id": "92e3e871",
   "metadata": {},
   "source": [
    "Overall accuracy when using Decision Tree classifier also showed a slight improvement when using some combination of feature engineering techniques. Again, in this case, the modest improvement in accuracy it is probably not significant.\n",
    "\n"
   ]
  },
  {
   "attachments": {},
   "cell_type": "markdown",
   "id": "fda1a3f0",
   "metadata": {},
   "source": [
    "## Conclusions:\n",
    "\n",
    "1. Improvement in accuracy was very modest. \n",
    "\n",
    "\n",
    "2. The improvement was greater for lower initial accuracy.\n",
    "\n",
    "\n",
    "3. Feature engineering should work better in conjunction with different  model improvement techniques.\n",
    "\n",
    "\n",
    "4. Domain knowledge could play an important role in selecting or building features. For example, adding new features that new research shows that its introduction to the model will greatly affect the classification/regression results.\n",
    "\n",
    "\n",
    "5. There seems to be no pattern for a right combination of techniques. \n",
    "\n",
    "\n",
    "6. PCA and recursive feature elimination performance was decent; but their most relevant contribution is the reduction of features without lossing significant performance while considerably reducing computational time.\n"
   ]
  },
  {
   "attachments": {},
   "cell_type": "markdown",
   "id": "30f08c4a",
   "metadata": {},
   "source": [
    "### References and Consulted Sources\n",
    "\n",
    "https://pandas.pydata.org/pandas-docs/stable/reference/api/pandas.DataFrame.dropna.html\n",
    "\n",
    "https://www.geeksforgeeks.org/python-pandas-isnull-and-notnull/\n",
    "\n",
    "https://pandas.pydata.org/docs/reference/api/pandas.DataFrame.drop_duplicates.html\n",
    "\n",
    "https://www.statisticssolutions.com/assumptions-of-logistic-regression/\n",
    "\n",
    "https://towardsdatascience.com/the-curse-of-dimensionality-50dc6e49aa1e\n",
    "\n",
    "Gareth James, Trevor Hastie, Robert Tibshirani, Daniella Witten Introduction to statistical learning\n",
    "\n",
    "https://seaborn.pydata.org/examples/many_pairwise_correlations.html\n",
    "\n",
    "https://www.kite.com/python/answers/how-to-drop-empty-rows-from-a-pandas-dataframe-in-python\n",
    "\n",
    "https://pandas.pydata.org/docs/reference/api/pandas.DataFrame.drop.html\n",
    "\n",
    "https://pandas.pydata.org/docs/reference/api/pandas.concat.html\n",
    "\n",
    "https://pandas.pydata.org/docs/reference/api/pandas.get_dummies.html\n",
    "\n",
    "https://scikit-learn.org/stable/modules/generated/sklearn.model_selection.train_test_split.html\n",
    "\n",
    "https://www.scikit-yb.org/en/latest/api/classifier/classification_report.html\n",
    "\n",
    "https://seaborn.pydata.org/generated/seaborn.boxplot.html\n",
    "\n",
    "https://stackoverflow.com/questions/26540035/rotate-label-text-in-seaborn-factorplot\n",
    "\n",
    "https://pandas.pydata.org/docs/reference/api/pandas.DataFrame.boxplot.html\n",
    "\n",
    "https://pandas.pydata.org/pandas-docs/version/0.15.0/visualization.html#visualization-box\n",
    "\n",
    "https://imbalanced-learn.org/stable/references/generated/imblearn.over_sampling.ADASYN.html\n",
    "\n",
    "https://imbalanced-learn.org/stable/references/generated/imblearn.over_sampling.SMOTE.html\n",
    "\n",
    "https://imbalanced-learn.org/stable/references/generated/imblearn.over_sampling.RandomOverSampler.html#\n",
    "\n",
    "https://stackoverflow.com/questions/20230326/retrieve-dataframe-of-all-but-one-specified-column\n",
    "\n",
    "https://www.scikit-yb.org/en/latest/api/model_selection/importances.html\n",
    "\n",
    "https://www.scikit-yb.org/en/latest/api/model_selection/importances.html\n",
    "\n",
    "https://scikit-learn.org/stable/modules/generated/sklearn.feature_selection.RFECV.html\n",
    "\n",
    "https://scikit-learn.org/stable/modules/generated/sklearn.preprocessing.PolynomialFeatures.html\n",
    "\n",
    "https://scikit-learn.org/stable/modules/generated/sklearn.decomposition.PCA.html\n",
    "\n",
    "https://scikit-learn.org/stable/modules/generated/sklearn.neural_network.BernoulliRBM.html\n",
    "\n",
    "https://pandas.pydata.org/docs/reference/api/pandas.DataFrame.sort_values.html\n",
    "\n",
    "https://stackabuse.com/rotate-axis-labels-in-matplotlib/\n",
    "\n",
    "https://stackabuse.com/how-to-set-axis-range-xlim-ylim-in-matplotlib/\n",
    "\n",
    "https://stackoverflow.com/questions/53577630/how-to-make-pareto-chart-in-python\n",
    "\n",
    "https://www.geeksforgeeks.org/rotate-axis-tick-labels-in-seaborn-and-matplotlib/\n",
    "\n",
    "https://seaborn.pydata.org/generated/seaborn.barplot.html\n",
    "\n",
    "https://seaborn.pydata.org/generated/seaborn.color_palette.html\n"
   ]
  },
  {
   "cell_type": "markdown",
   "id": "7482cd1d",
   "metadata": {},
   "source": []
  }
 ],
 "metadata": {
  "kernelspec": {
   "display_name": "Python 3",
   "language": "python",
   "name": "python3"
  },
  "language_info": {
   "codemirror_mode": {
    "name": "ipython",
    "version": 3
   },
   "file_extension": ".py",
   "mimetype": "text/x-python",
   "name": "python",
   "nbconvert_exporter": "python",
   "pygments_lexer": "ipython3",
   "version": "3.9.2"
  }
 },
 "nbformat": 4,
 "nbformat_minor": 5
}
