{
 "cells": [
  {
   "cell_type": "markdown",
   "id": "c6743f29",
   "metadata": {},
   "source": [
    "## Part 2: \n",
    "\n",
    "Badly performing dataset:\n",
    "\n",
    "On the previous example, the initital performance of classification algorithms were very high. Feature engeneering managed to marginally  improve the accuracy of the model(probably not significant). The Wine dataset present a more challenging issue. It is known for having relatively low accuracy mainly due to how imbalanced its clasess are.\n",
    "\n",
    "Whatis intended to be answered in this second part is how different feature engeneering techniques can improve (if possible) a relatively badly performing dataset. \n",
    "\n",
    "Dataset available at: https://www.kaggle.com/rajyellow46/wine-quality\n"
   ]
  },
  {
   "cell_type": "code",
   "execution_count": 1,
   "id": "210c1e72",
   "metadata": {},
   "outputs": [],
   "source": [
    "from yellowbrick.model_selection import FeatureImportances\n",
    "import pandas as pd\n",
    "import numpy as np\n",
    "import matplotlib.pyplot as plt\n",
    "import seaborn as sns\n",
    "from sklearn.model_selection import train_test_split\n",
    "from sklearn.metrics import accuracy_score\n",
    "from yellowbrick.features import rank2d\n",
    "from yellowbrick.classifier import ClassificationReport\n",
    "from imblearn.over_sampling import SMOTE, ADASYN, RandomOverSampler\n",
    "from sklearn.feature_selection import RFE\n",
    "import pickle\n",
    "from sklearn.preprocessing import PolynomialFeatures\n",
    "from sklearn.decomposition import PCA\n",
    "from sklearn.discriminant_analysis import LinearDiscriminantAnalysis\n",
    "from sklearn.neural_network import BernoulliRBM\n",
    "from sklearn.ensemble import RandomForestClassifier\n",
    "from sklearn.feature_selection import RFECV\n",
    "from sklearn.model_selection import KFold\n"
   ]
  },
  {
   "cell_type": "code",
   "execution_count": 2,
   "id": "lucky-respect",
   "metadata": {},
   "outputs": [],
   "source": [
    "#import plotly.graph_objects as go\n",
    "#import plotly.express as px"
   ]
  },
  {
   "cell_type": "code",
   "execution_count": 3,
   "id": "august-distinction",
   "metadata": {},
   "outputs": [],
   "source": [
    "# Changing pandas display options:\n",
    "pd.set_option('max_columns',50) "
   ]
  },
  {
   "cell_type": "markdown",
   "id": "significant-inquiry",
   "metadata": {},
   "source": [
    "## 1. Importing Data:"
   ]
  },
  {
   "cell_type": "code",
   "execution_count": 4,
   "id": "intermediate-building",
   "metadata": {},
   "outputs": [],
   "source": [
    "Wine_Quality = pd.read_csv('winequalityN.csv', sep = ',')"
   ]
  },
  {
   "cell_type": "markdown",
   "id": "extra-daughter",
   "metadata": {},
   "source": [
    "## 2. Eploratory data analysis"
   ]
  },
  {
   "cell_type": "code",
   "execution_count": 5,
   "id": "perfect-marina",
   "metadata": {},
   "outputs": [
    {
     "data": {
      "text/html": [
       "<div>\n",
       "<style scoped>\n",
       "    .dataframe tbody tr th:only-of-type {\n",
       "        vertical-align: middle;\n",
       "    }\n",
       "\n",
       "    .dataframe tbody tr th {\n",
       "        vertical-align: top;\n",
       "    }\n",
       "\n",
       "    .dataframe thead th {\n",
       "        text-align: right;\n",
       "    }\n",
       "</style>\n",
       "<table border=\"1\" class=\"dataframe\">\n",
       "  <thead>\n",
       "    <tr style=\"text-align: right;\">\n",
       "      <th></th>\n",
       "      <th>type</th>\n",
       "      <th>fixed acidity</th>\n",
       "      <th>volatile acidity</th>\n",
       "      <th>citric acid</th>\n",
       "      <th>residual sugar</th>\n",
       "      <th>chlorides</th>\n",
       "      <th>free sulfur dioxide</th>\n",
       "      <th>total sulfur dioxide</th>\n",
       "      <th>density</th>\n",
       "      <th>pH</th>\n",
       "      <th>sulphates</th>\n",
       "      <th>alcohol</th>\n",
       "      <th>quality</th>\n",
       "    </tr>\n",
       "  </thead>\n",
       "  <tbody>\n",
       "    <tr>\n",
       "      <th>0</th>\n",
       "      <td>white</td>\n",
       "      <td>7.0</td>\n",
       "      <td>0.27</td>\n",
       "      <td>0.36</td>\n",
       "      <td>20.7</td>\n",
       "      <td>0.045</td>\n",
       "      <td>45.0</td>\n",
       "      <td>170.0</td>\n",
       "      <td>1.0010</td>\n",
       "      <td>3.00</td>\n",
       "      <td>0.45</td>\n",
       "      <td>8.8</td>\n",
       "      <td>6</td>\n",
       "    </tr>\n",
       "    <tr>\n",
       "      <th>1</th>\n",
       "      <td>white</td>\n",
       "      <td>6.3</td>\n",
       "      <td>0.30</td>\n",
       "      <td>0.34</td>\n",
       "      <td>1.6</td>\n",
       "      <td>0.049</td>\n",
       "      <td>14.0</td>\n",
       "      <td>132.0</td>\n",
       "      <td>0.9940</td>\n",
       "      <td>3.30</td>\n",
       "      <td>0.49</td>\n",
       "      <td>9.5</td>\n",
       "      <td>6</td>\n",
       "    </tr>\n",
       "    <tr>\n",
       "      <th>2</th>\n",
       "      <td>white</td>\n",
       "      <td>8.1</td>\n",
       "      <td>0.28</td>\n",
       "      <td>0.40</td>\n",
       "      <td>6.9</td>\n",
       "      <td>0.050</td>\n",
       "      <td>30.0</td>\n",
       "      <td>97.0</td>\n",
       "      <td>0.9951</td>\n",
       "      <td>3.26</td>\n",
       "      <td>0.44</td>\n",
       "      <td>10.1</td>\n",
       "      <td>6</td>\n",
       "    </tr>\n",
       "    <tr>\n",
       "      <th>3</th>\n",
       "      <td>white</td>\n",
       "      <td>7.2</td>\n",
       "      <td>0.23</td>\n",
       "      <td>0.32</td>\n",
       "      <td>8.5</td>\n",
       "      <td>0.058</td>\n",
       "      <td>47.0</td>\n",
       "      <td>186.0</td>\n",
       "      <td>0.9956</td>\n",
       "      <td>3.19</td>\n",
       "      <td>0.40</td>\n",
       "      <td>9.9</td>\n",
       "      <td>6</td>\n",
       "    </tr>\n",
       "    <tr>\n",
       "      <th>4</th>\n",
       "      <td>white</td>\n",
       "      <td>7.2</td>\n",
       "      <td>0.23</td>\n",
       "      <td>0.32</td>\n",
       "      <td>8.5</td>\n",
       "      <td>0.058</td>\n",
       "      <td>47.0</td>\n",
       "      <td>186.0</td>\n",
       "      <td>0.9956</td>\n",
       "      <td>3.19</td>\n",
       "      <td>0.40</td>\n",
       "      <td>9.9</td>\n",
       "      <td>6</td>\n",
       "    </tr>\n",
       "  </tbody>\n",
       "</table>\n",
       "</div>"
      ],
      "text/plain": [
       "    type  fixed acidity  volatile acidity  citric acid  residual sugar  \\\n",
       "0  white            7.0              0.27         0.36            20.7   \n",
       "1  white            6.3              0.30         0.34             1.6   \n",
       "2  white            8.1              0.28         0.40             6.9   \n",
       "3  white            7.2              0.23         0.32             8.5   \n",
       "4  white            7.2              0.23         0.32             8.5   \n",
       "\n",
       "   chlorides  free sulfur dioxide  total sulfur dioxide  density    pH  \\\n",
       "0      0.045                 45.0                 170.0   1.0010  3.00   \n",
       "1      0.049                 14.0                 132.0   0.9940  3.30   \n",
       "2      0.050                 30.0                  97.0   0.9951  3.26   \n",
       "3      0.058                 47.0                 186.0   0.9956  3.19   \n",
       "4      0.058                 47.0                 186.0   0.9956  3.19   \n",
       "\n",
       "   sulphates  alcohol  quality  \n",
       "0       0.45      8.8        6  \n",
       "1       0.49      9.5        6  \n",
       "2       0.44     10.1        6  \n",
       "3       0.40      9.9        6  \n",
       "4       0.40      9.9        6  "
      ]
     },
     "execution_count": 5,
     "metadata": {},
     "output_type": "execute_result"
    }
   ],
   "source": [
    "# taking a glimpse of the data.\n",
    "Wine_Quality.head(5)"
   ]
  },
  {
   "cell_type": "code",
   "execution_count": 6,
   "id": "numerical-pittsburgh",
   "metadata": {},
   "outputs": [
    {
     "name": "stdout",
     "output_type": "stream",
     "text": [
      "<class 'pandas.core.frame.DataFrame'>\n",
      "RangeIndex: 6497 entries, 0 to 6496\n",
      "Data columns (total 13 columns):\n",
      " #   Column                Non-Null Count  Dtype  \n",
      "---  ------                --------------  -----  \n",
      " 0   type                  6497 non-null   object \n",
      " 1   fixed acidity         6487 non-null   float64\n",
      " 2   volatile acidity      6489 non-null   float64\n",
      " 3   citric acid           6494 non-null   float64\n",
      " 4   residual sugar        6495 non-null   float64\n",
      " 5   chlorides             6495 non-null   float64\n",
      " 6   free sulfur dioxide   6497 non-null   float64\n",
      " 7   total sulfur dioxide  6497 non-null   float64\n",
      " 8   density               6497 non-null   float64\n",
      " 9   pH                    6488 non-null   float64\n",
      " 10  sulphates             6493 non-null   float64\n",
      " 11  alcohol               6497 non-null   float64\n",
      " 12  quality               6497 non-null   int64  \n",
      "dtypes: float64(11), int64(1), object(1)\n",
      "memory usage: 660.0+ KB\n"
     ]
    }
   ],
   "source": [
    "Wine_Quality.info()"
   ]
  },
  {
   "cell_type": "code",
   "execution_count": 7,
   "id": "liable-today",
   "metadata": {},
   "outputs": [],
   "source": [
    "# Consulted:\n",
    "\n",
    "# https://pandas.pydata.org/pandas-docs/stable/reference/api/pandas.DataFrame.dropna.html\n",
    "# https://www.geeksforgeeks.org/python-pandas-isnull-and-notnull/\n",
    "# https://pandas.pydata.org/docs/reference/api/pandas.DataFrame.drop_duplicates.html\n",
    "# https://pandas.pydata.org/docs/reference/api/pandas.get_dummies.html"
   ]
  },
  {
   "cell_type": "code",
   "execution_count": 8,
   "id": "hundred-trailer",
   "metadata": {},
   "outputs": [
    {
     "data": {
      "text/plain": [
       "<AxesSubplot:>"
      ]
     },
     "execution_count": 8,
     "metadata": {},
     "output_type": "execute_result"
    },
    {
     "data": {
      "image/png": "[encoded data removed]",
      "text/plain": [
       "<Figure size 792x648 with 2 Axes>"
      ]
     },
     "metadata": {},
     "output_type": "display_data"
    }
   ],
   "source": [
    "# Creating a pairplot to visualize the continuous features.\n",
    "# Identifiying highly correlated features. Altough not dealing with multiple regression,it is good to keep things as simple as \n",
    "# possible\n",
    "\n",
    "# consulted: https://towardsdatascience.com/the-curse-of-dimensionality-50dc6e49aa1e\n",
    "\n",
    "# Introduction to statistical learning\n",
    "\n",
    "Wine_data_continuous = Wine_Quality.drop(columns = ['quality'])\n",
    "\n",
    "corr = Wine_data_continuous.corr()\n",
    "mask = np.triu(np.ones_like(corr, dtype=bool))\n",
    "f, ax = plt.subplots(figsize=(11, 9))\n",
    "cmap = sns.diverging_palette(500, 500, as_cmap=True)\n",
    "sns.heatmap(corr, mask=mask, cmap = cmap)\n",
    "# https://seaborn.pydata.org/examples/many_pairwise_correlations.html\n"
   ]
  },
  {
   "cell_type": "markdown",
   "id": "tropical-accused",
   "metadata": {},
   "source": [
    "Correlation is not extremely strong. Ony density/alcohol seems to be closer to .8"
   ]
  },
  {
   "cell_type": "markdown",
   "id": "dangerous-newfoundland",
   "metadata": {},
   "source": [
    "## 3. Data Preprocessing:"
   ]
  },
  {
   "cell_type": "code",
   "execution_count": 9,
   "id": "micro-intersection",
   "metadata": {},
   "outputs": [
    {
     "name": "stdout",
     "output_type": "stream",
     "text": [
      "No NaNs?:  True\n",
      "\n"
     ]
    }
   ],
   "source": [
    "# Dealing with possible missing values and duplicates\\\n",
    "\n",
    "Wine_Quality.drop_duplicates(inplace = True)\n",
    "\n",
    "nan = float(\"NaN\") \n",
    "Wine_Quality.replace(\"\", nan, inplace=True) # blank values present?\n",
    "\n",
    "\n",
    "# source:  https://www.kite.com/python/answers/how-to-drop-empty-rows-from-a-pandas-dataframe-in-python\n",
    "\n",
    "Wine_Quality.dropna(inplace = True)\n",
    "print(f'No NaNs?:  {all(Wine_Quality.notnull())}\\n') \n"
   ]
  },
  {
   "cell_type": "markdown",
   "id": "pediatric-highland",
   "metadata": {},
   "source": [
    "## 3. Model Selection\n",
    "\n",
    "This time, To keep things simple. Only Random Forest Classifier will be used.\n"
   ]
  },
  {
   "cell_type": "code",
   "execution_count": 10,
   "id": "entertaining-application",
   "metadata": {},
   "outputs": [],
   "source": [
    "Accuracies = {} # creating an accuracy dictionary for the plot afterwards\n",
    "\n",
    "y = Wine_Quality.iloc[:,[-1]]\n",
    "X = Wine_Quality.iloc[:,0:-2]\n"
   ]
  },
  {
   "cell_type": "code",
   "execution_count": 11,
   "id": "197e6302",
   "metadata": {},
   "outputs": [],
   "source": [
    "Types = pd.get_dummies(Wine_Quality['type'])\n",
    "\n",
    "X = pd.concat([X, Types], axis = 1).reset_index()\n",
    "X = X.drop(['type', 'index'], axis = 1)\n",
    "# https://pandas.pydata.org/docs/reference/api/pandas.concat.html\n",
    "# https://pandas.pydata.org/pandas-docs/stable/reference/api/pandas.DataFrame.drop.html"
   ]
  },
  {
   "cell_type": "markdown",
   "id": "gorgeous-department",
   "metadata": {},
   "source": [
    "## 3.1 Preliminary model results and Feature Improvement"
   ]
  },
  {
   "cell_type": "code",
   "execution_count": 12,
   "id": "optical-sauce",
   "metadata": {},
   "outputs": [],
   "source": [
    "X_train, X_test, y_train, y_test = train_test_split(X, y, test_size=0.30, random_state=165)\n",
    "\n",
    "y_train = np.ravel(y_train)"
   ]
  },
  {
   "cell_type": "code",
   "execution_count": 13,
   "id": "federal-phase",
   "metadata": {},
   "outputs": [],
   "source": [
    "def forest_plot(X_train, X_test, technique, min_samples_split = 190):\n",
    "    \n",
    "    n_estimators = [i for i in range(100,260,20)]\n",
    "    accuracy = []\n",
    "\n",
    "    for n in n_estimators:\n",
    "        tree = RandomForestClassifier(n_estimators = n , min_samples_split = 190, random_state = 11) # to reduce \n",
    "        tree.fit(X_train, y_train)\n",
    "        y_predict = tree.predict(X_test)\n",
    "        accuracy.append(accuracy_score(y_test, y_predict)*100)\n",
    "    \n",
    "    # good source for matplotlib parameters: https://matplotlib.org/3.1.1/api/pyplot_summary.html\n",
    "    plt.plot(n_estimators, accuracy, linestyle ='dashed', marker = 'o', color = 'blue') # https://matplotlib.org/stable/api/_as_gen/matplotlib.pyplot.plot.html\n",
    "    plt.xticks(n_estimators)\n",
    "    plt.title('Accuracies vs samples')\n",
    "    plt.xlabel('number of trees')\n",
    "    plt.ylabel('Accuracy (in percentage)')\n",
    "\n",
    "    plt.show()\n",
    "    \n",
    "    print(f'List of accuracies:\\n{np.around(accuracy, 3)}\\n') #https://www.kite.com/python/docs/numpy.around\n",
    "    print(f'Optimal Accuracy:\\n{round(max(accuracy),3)}')\n",
    "    Accuracies[technique] = max(accuracy)"
   ]
  },
  {
   "cell_type": "code",
   "execution_count": 14,
   "id": "foster-eating",
   "metadata": {},
   "outputs": [
    {
     "data": {
      "image/png": "[encoded data removed]",
      "text/plain": [
       "<Figure size 576x396 with 1 Axes>"
      ]
     },
     "metadata": {},
     "output_type": "display_data"
    },
    {
     "name": "stdout",
     "output_type": "stream",
     "text": [
      "List of accuracies:\n",
      "[53.807 54.122 54.437 53.87  54.248 53.996 53.87  54.122]\n",
      "\n",
      "Optimal Accuracy:\n",
      "54.437\n"
     ]
    }
   ],
   "source": [
    "forest_plot(X_train, X_test, 'Without Class Reassign')"
   ]
  },
  {
   "cell_type": "markdown",
   "id": "organized-berlin",
   "metadata": {},
   "source": [
    "The optimal minimal number of Trees is: 140"
   ]
  },
  {
   "cell_type": "markdown",
   "id": "adcfbbea",
   "metadata": {},
   "source": [
    "This dataset is relatively well known, and its accuracy could be improved by reassigning labels on the dataset. Instead of performing resampling as a way to deal with class imbalance, the classes will be reduced to 3 levels. \n",
    "\n",
    "Online examples like the one here: \n",
    "https://www.kaggle.com/ckoushik2805/winequality-classification-model-95-accuracy  \n",
    "\n",
    "This example managed to greatly improve accuracy by reducing the labels to only three. The objective of this second part was to use all the studied feature engineering techniques in order to further improve the model\n",
    "\n"
   ]
  },
  {
   "cell_type": "markdown",
   "id": "worst-chuck",
   "metadata": {},
   "source": [
    "## 4. Reassigning Labels"
   ]
  },
  {
   "cell_type": "code",
   "execution_count": 15,
   "id": "southwest-payroll",
   "metadata": {},
   "outputs": [
    {
     "data": {
      "text/html": [
       "<div>\n",
       "<style scoped>\n",
       "    .dataframe tbody tr th:only-of-type {\n",
       "        vertical-align: middle;\n",
       "    }\n",
       "\n",
       "    .dataframe tbody tr th {\n",
       "        vertical-align: top;\n",
       "    }\n",
       "\n",
       "    .dataframe thead th {\n",
       "        text-align: right;\n",
       "    }\n",
       "</style>\n",
       "<table border=\"1\" class=\"dataframe\">\n",
       "  <thead>\n",
       "    <tr style=\"text-align: right;\">\n",
       "      <th></th>\n",
       "      <th>type</th>\n",
       "      <th>fixed acidity</th>\n",
       "      <th>volatile acidity</th>\n",
       "      <th>citric acid</th>\n",
       "      <th>residual sugar</th>\n",
       "      <th>chlorides</th>\n",
       "      <th>free sulfur dioxide</th>\n",
       "      <th>total sulfur dioxide</th>\n",
       "      <th>density</th>\n",
       "      <th>pH</th>\n",
       "      <th>sulphates</th>\n",
       "      <th>alcohol</th>\n",
       "    </tr>\n",
       "    <tr>\n",
       "      <th>quality</th>\n",
       "      <th></th>\n",
       "      <th></th>\n",
       "      <th></th>\n",
       "      <th></th>\n",
       "      <th></th>\n",
       "      <th></th>\n",
       "      <th></th>\n",
       "      <th></th>\n",
       "      <th></th>\n",
       "      <th></th>\n",
       "      <th></th>\n",
       "      <th></th>\n",
       "    </tr>\n",
       "  </thead>\n",
       "  <tbody>\n",
       "    <tr>\n",
       "      <th>3</th>\n",
       "      <td>30</td>\n",
       "      <td>30</td>\n",
       "      <td>30</td>\n",
       "      <td>30</td>\n",
       "      <td>30</td>\n",
       "      <td>30</td>\n",
       "      <td>30</td>\n",
       "      <td>30</td>\n",
       "      <td>30</td>\n",
       "      <td>30</td>\n",
       "      <td>30</td>\n",
       "      <td>30</td>\n",
       "    </tr>\n",
       "    <tr>\n",
       "      <th>4</th>\n",
       "      <td>204</td>\n",
       "      <td>204</td>\n",
       "      <td>204</td>\n",
       "      <td>204</td>\n",
       "      <td>204</td>\n",
       "      <td>204</td>\n",
       "      <td>204</td>\n",
       "      <td>204</td>\n",
       "      <td>204</td>\n",
       "      <td>204</td>\n",
       "      <td>204</td>\n",
       "      <td>204</td>\n",
       "    </tr>\n",
       "    <tr>\n",
       "      <th>5</th>\n",
       "      <td>1745</td>\n",
       "      <td>1745</td>\n",
       "      <td>1745</td>\n",
       "      <td>1745</td>\n",
       "      <td>1745</td>\n",
       "      <td>1745</td>\n",
       "      <td>1745</td>\n",
       "      <td>1745</td>\n",
       "      <td>1745</td>\n",
       "      <td>1745</td>\n",
       "      <td>1745</td>\n",
       "      <td>1745</td>\n",
       "    </tr>\n",
       "    <tr>\n",
       "      <th>6</th>\n",
       "      <td>2311</td>\n",
       "      <td>2311</td>\n",
       "      <td>2311</td>\n",
       "      <td>2311</td>\n",
       "      <td>2311</td>\n",
       "      <td>2311</td>\n",
       "      <td>2311</td>\n",
       "      <td>2311</td>\n",
       "      <td>2311</td>\n",
       "      <td>2311</td>\n",
       "      <td>2311</td>\n",
       "      <td>2311</td>\n",
       "    </tr>\n",
       "    <tr>\n",
       "      <th>7</th>\n",
       "      <td>852</td>\n",
       "      <td>852</td>\n",
       "      <td>852</td>\n",
       "      <td>852</td>\n",
       "      <td>852</td>\n",
       "      <td>852</td>\n",
       "      <td>852</td>\n",
       "      <td>852</td>\n",
       "      <td>852</td>\n",
       "      <td>852</td>\n",
       "      <td>852</td>\n",
       "      <td>852</td>\n",
       "    </tr>\n",
       "    <tr>\n",
       "      <th>8</th>\n",
       "      <td>148</td>\n",
       "      <td>148</td>\n",
       "      <td>148</td>\n",
       "      <td>148</td>\n",
       "      <td>148</td>\n",
       "      <td>148</td>\n",
       "      <td>148</td>\n",
       "      <td>148</td>\n",
       "      <td>148</td>\n",
       "      <td>148</td>\n",
       "      <td>148</td>\n",
       "      <td>148</td>\n",
       "    </tr>\n",
       "    <tr>\n",
       "      <th>9</th>\n",
       "      <td>5</td>\n",
       "      <td>5</td>\n",
       "      <td>5</td>\n",
       "      <td>5</td>\n",
       "      <td>5</td>\n",
       "      <td>5</td>\n",
       "      <td>5</td>\n",
       "      <td>5</td>\n",
       "      <td>5</td>\n",
       "      <td>5</td>\n",
       "      <td>5</td>\n",
       "      <td>5</td>\n",
       "    </tr>\n",
       "  </tbody>\n",
       "</table>\n",
       "</div>"
      ],
      "text/plain": [
       "         type  fixed acidity  volatile acidity  citric acid  residual sugar  \\\n",
       "quality                                                                       \n",
       "3          30             30                30           30              30   \n",
       "4         204            204               204          204             204   \n",
       "5        1745           1745              1745         1745            1745   \n",
       "6        2311           2311              2311         2311            2311   \n",
       "7         852            852               852          852             852   \n",
       "8         148            148               148          148             148   \n",
       "9           5              5                 5            5               5   \n",
       "\n",
       "         chlorides  free sulfur dioxide  total sulfur dioxide  density    pH  \\\n",
       "quality                                                                        \n",
       "3               30                   30                    30       30    30   \n",
       "4              204                  204                   204      204   204   \n",
       "5             1745                 1745                  1745     1745  1745   \n",
       "6             2311                 2311                  2311     2311  2311   \n",
       "7              852                  852                   852      852   852   \n",
       "8              148                  148                   148      148   148   \n",
       "9                5                    5                     5        5     5   \n",
       "\n",
       "         sulphates  alcohol  \n",
       "quality                      \n",
       "3               30       30  \n",
       "4              204      204  \n",
       "5             1745     1745  \n",
       "6             2311     2311  \n",
       "7              852      852  \n",
       "8              148      148  \n",
       "9                5        5  "
      ]
     },
     "execution_count": 15,
     "metadata": {},
     "output_type": "execute_result"
    }
   ],
   "source": [
    "Wine_Quality.groupby('quality').count()\n",
    "\n",
    "# there is significant class inmbalance in this dataset. Atempting oversampling:"
   ]
  },
  {
   "cell_type": "code",
   "execution_count": 16,
   "id": "c62d8d71",
   "metadata": {},
   "outputs": [
    {
     "data": {
      "text/plain": [
       "quality\n",
       "6          2311\n",
       "5          1745\n",
       "7           852\n",
       "4           204\n",
       "8           148\n",
       "3            30\n",
       "9             5\n",
       "dtype: int64"
      ]
     },
     "execution_count": 16,
     "metadata": {},
     "output_type": "execute_result"
    }
   ],
   "source": [
    "y.value_counts()"
   ]
  },
  {
   "cell_type": "code",
   "execution_count": 17,
   "id": "e4c0cbe5",
   "metadata": {},
   "outputs": [],
   "source": [
    "# Reasinging labels:\n",
    "new_y = y.values\n",
    "for i in range(0, len(new_y)):\n",
    "    if new_y[i] == 3 or new_y[i] == 4:\n",
    "        new_y[i] = 0\n",
    "    elif new_y[i] == 5 or new_y[i] == 6:\n",
    "        new_y[i] = 1\n",
    "    elif new_y[i] == 7 or new_y[i] == 8 or new_y[i] == 9:\n",
    "        new_y[i] = 2\n",
    "        \n",
    "# consulted: https://www.kaggle.com/ckoushik2805/winequality-classification-model-95-accuracy"
   ]
  },
  {
   "cell_type": "code",
   "execution_count": 18,
   "id": "91fc1fd2",
   "metadata": {},
   "outputs": [],
   "source": [
    "new_y = pd.DataFrame(new_y)"
   ]
  },
  {
   "cell_type": "code",
   "execution_count": 19,
   "id": "bbe0be08",
   "metadata": {},
   "outputs": [
    {
     "data": {
      "text/plain": [
       "1    4056\n",
       "2    1005\n",
       "0     234\n",
       "dtype: int64"
      ]
     },
     "execution_count": 19,
     "metadata": {},
     "output_type": "execute_result"
    }
   ],
   "source": [
    "new_y.value_counts()"
   ]
  },
  {
   "cell_type": "code",
   "execution_count": 20,
   "id": "05477790",
   "metadata": {},
   "outputs": [],
   "source": [
    "X_train, X_test, y_train, y_test = train_test_split(X,new_y, test_size=0.30, random_state=163)\n",
    "\n",
    "y_train = np.ravel(y_train)"
   ]
  },
  {
   "cell_type": "code",
   "execution_count": 21,
   "id": "5672c809",
   "metadata": {},
   "outputs": [
    {
     "data": {
      "image/png": "[encoded data removed]",
      "text/plain": [
       "<Figure size 576x396 with 1 Axes>"
      ]
     },
     "metadata": {},
     "output_type": "display_data"
    },
    {
     "name": "stdout",
     "output_type": "stream",
     "text": [
      "List of accuracies:\n",
      "[76.652 76.652 76.589 76.589 76.652 76.589 76.589 76.589]\n",
      "\n",
      "Optimal Accuracy:\n",
      "76.652\n"
     ]
    }
   ],
   "source": [
    "forest_plot(X_train, X_test, 'Class Reassign', min_samples_split = 190)"
   ]
  },
  {
   "cell_type": "markdown",
   "id": "d6424e13",
   "metadata": {},
   "source": [
    "In this case, the optimal number of trees was 120"
   ]
  },
  {
   "cell_type": "markdown",
   "id": "exposed-protest",
   "metadata": {},
   "source": [
    "## 5 Feature Selection"
   ]
  },
  {
   "cell_type": "code",
   "execution_count": 22,
   "id": "apparent-cosmetic",
   "metadata": {},
   "outputs": [],
   "source": [
    "# Only doing feature importances:"
   ]
  },
  {
   "cell_type": "code",
   "execution_count": 23,
   "id": "driven-hours",
   "metadata": {},
   "outputs": [
    {
     "data": {
      "image/png": "[encoded data removed]",
      "text/plain": [
       "<Figure size 576x396 with 1 Axes>"
      ]
     },
     "metadata": {},
     "output_type": "display_data"
    },
    {
     "data": {
      "text/plain": [
       "<AxesSubplot:title={'center':'Feature Importances of 12 Features using RandomForestClassifier'}, xlabel='relative importance'>"
      ]
     },
     "execution_count": 23,
     "metadata": {},
     "output_type": "execute_result"
    }
   ],
   "source": [
    "model = RandomForestClassifier(n_estimators = 160 , min_samples_split = 190, random_state = 12)\n",
    "importances = FeatureImportances(model)\n",
    "importances.fit(X_train, y_train)\n",
    "importances.show()\n",
    "# https://www.scikit-yb.org/en/latest/api/model_selection/importances.html"
   ]
  },
  {
   "cell_type": "markdown",
   "id": "strong-assist",
   "metadata": {},
   "source": [
    "### Recursive Feature Elimination:"
   ]
  },
  {
   "cell_type": "markdown",
   "id": "billion-marks",
   "metadata": {},
   "source": [
    "This technique will try the performance of the algorithm by resursively trying all the features. After the optimal number of features is found, the most important features will be selected and recursively tested. Features with no importance are not considered in the recursive test."
   ]
  },
  {
   "cell_type": "code",
   "execution_count": 24,
   "id": "compact-compiler",
   "metadata": {},
   "outputs": [],
   "source": [
    "def recfe(target, data, algorithm):\n",
    "\n",
    "    classifier = algorithm\n",
    "    rfe = RFE(estimator=classifier, n_features_to_select= 1, step=1, verbose = 10)\n",
    "    rfe.fit(data,target)\n",
    "    optimal_features = rfe.ranking_\n",
    "\n",
    "    print(f\"Optimal number of features : {optimal_features[0]}\") "
   ]
  },
  {
   "cell_type": "code",
   "execution_count": 25,
   "id": "9455c61c",
   "metadata": {},
   "outputs": [],
   "source": [
    "def recfecv(target, data, algorithm):\n",
    "    \n",
    "    classifier = algorithm\n",
    "    rfecv = RFECV(estimator=classifier, step=1, cv=KFold(12), scoring='accuracy', verbose = 10, n_jobs = -1)\n",
    "    rfecv.fit(data,target)\n",
    "    optimal_features = rfecv.n_features_\n",
    "\n",
    "    print(\"Optimal number of features with Cross Validation is : %d\" % rfecv.n_features_) \n",
    "    \n",
    "    \n",
    "    plt.figure()\n",
    "    plt.title('Recursive Feature Elimination with 12 fold cross validation')\n",
    "    plt.xlabel(\"Number of features selected\")\n",
    "    plt.ylabel(\"Cross validation score\")\n",
    "    plt.plot(range(1, len(rfecv.grid_scores_) + 1), rfecv.grid_scores_, linestyle ='dashed', marker = 'o', color = 'blue')\n",
    "    plt.show()\n",
    "  # https://scikit-learn.org/stable/modules/generated/sklearn.feature_selection.RFECV.html      "
   ]
  },
  {
   "cell_type": "code",
   "execution_count": 26,
   "id": "gorgeous-proposition",
   "metadata": {},
   "outputs": [
    {
     "name": "stdout",
     "output_type": "stream",
     "text": [
      "Fitting estimator with 12 features.\n",
      "Fitting estimator with 11 features.\n",
      "Fitting estimator with 10 features.\n",
      "Fitting estimator with 9 features.\n",
      "Fitting estimator with 8 features.\n",
      "Fitting estimator with 7 features.\n",
      "Fitting estimator with 6 features.\n",
      "Fitting estimator with 5 features.\n",
      "Fitting estimator with 4 features.\n",
      "Fitting estimator with 3 features.\n",
      "Fitting estimator with 2 features.\n",
      "Optimal number of features : 10\n"
     ]
    }
   ],
   "source": [
    "recfe(y_train,X_train, RandomForestClassifier(n_estimators = 120 , min_samples_split = 190, random_state = 13))"
   ]
  },
  {
   "cell_type": "code",
   "execution_count": 27,
   "id": "67cbce80",
   "metadata": {},
   "outputs": [
    {
     "name": "stdout",
     "output_type": "stream",
     "text": [
      "Fitting estimator with 12 features.\n",
      "Fitting estimator with 11 features.\n",
      "Fitting estimator with 10 features.\n",
      "Optimal number of features with Cross Validation is : 9\n"
     ]
    },
    {
     "data": {
      "image/png": "[encoded data removed]",
      "text/plain": [
       "<Figure size 576x396 with 1 Axes>"
      ]
     },
     "metadata": {},
     "output_type": "display_data"
    }
   ],
   "source": [
    "recfecv(y_train,X_train, RandomForestClassifier(n_estimators = 120 , min_samples_split = 190, random_state = 14))"
   ]
  },
  {
   "cell_type": "code",
   "execution_count": 28,
   "id": "cooked-graduation",
   "metadata": {},
   "outputs": [
    {
     "data": {
      "text/plain": [
       "Index(['fixed acidity', 'volatile acidity', 'citric acid', 'residual sugar',\n",
       "       'chlorides', 'free sulfur dioxide', 'total sulfur dioxide', 'density',\n",
       "       'pH', 'sulphates', 'red', 'white'],\n",
       "      dtype='object')"
      ]
     },
     "execution_count": 28,
     "metadata": {},
     "output_type": "execute_result"
    }
   ],
   "source": [
    "X_train.columns"
   ]
  },
  {
   "cell_type": "markdown",
   "id": "c47dd571",
   "metadata": {},
   "source": [
    "##### Selecting the 9 best features (after performing recursive feature elimination with 12 fold cross-validation):"
   ]
  },
  {
   "cell_type": "code",
   "execution_count": 29,
   "id": "accepting-hacker",
   "metadata": {},
   "outputs": [],
   "source": [
    "X_train_recf = X_train.drop(columns = ['fixed acidity', 'red', 'white'])\n",
    "X_test_recf = X_test.drop(columns = ['fixed acidity', 'red', 'white'])"
   ]
  },
  {
   "cell_type": "code",
   "execution_count": 30,
   "id": "3ff51b6d",
   "metadata": {},
   "outputs": [],
   "source": [
    "#### Running the model again without the meaninless features "
   ]
  },
  {
   "cell_type": "code",
   "execution_count": 31,
   "id": "ee94bbb2",
   "metadata": {},
   "outputs": [
    {
     "name": "stdout",
     "output_type": "stream",
     "text": [
      "Accuracy after recursive feature elimination: 77.03%\n"
     ]
    }
   ],
   "source": [
    "tree = RandomForestClassifier(n_estimators = 120 , min_samples_split = 190, random_state = 15) \n",
    "tree.fit(X_train_recf, y_train)\n",
    "y_predict = tree.predict(X_test_recf)\n",
    "accuracy = round(accuracy_score(y_test, y_predict)*100, 3)\n",
    "print(f'Accuracy after recursive feature elimination: {accuracy}%')\n",
    "Accuracies['RECFE'] = accuracy"
   ]
  },
  {
   "cell_type": "markdown",
   "id": "intensive-probe",
   "metadata": {},
   "source": [
    "## 6. Feature construction:\n",
    "\n",
    "#### Using Polynomial Features"
   ]
  },
  {
   "cell_type": "code",
   "execution_count": 32,
   "id": "broad-supply",
   "metadata": {},
   "outputs": [],
   "source": [
    "# Note, This process will not be done in a loop doe to the time it takes to work with 3 and 4 degree polynomial\n",
    "poly2 = PolynomialFeatures(2)\n",
    "poly3 = PolynomialFeatures(3)\n",
    "poly4 = PolynomialFeatures(4)"
   ]
  },
  {
   "cell_type": "code",
   "execution_count": 33,
   "id": "outside-virgin",
   "metadata": {},
   "outputs": [],
   "source": [
    "# working with polynomial features degree 2\n",
    "X_train_poly2 = poly2.fit_transform(X_train_recf)\n",
    "X_test_poly2 = poly2.transform(X_test_recf)\n",
    "\n",
    "# working with polynomial features degree 3\n",
    "X_train_poly3 = poly3.fit_transform(X_train_recf)\n",
    "X_test_poly3 = poly3.transform(X_test_recf)\n",
    "\n",
    "# working with polynomial features degree 4\n",
    "X_train_poly4 = poly4.fit_transform(X_train_recf)\n",
    "X_test_poly4 = poly4.transform(X_test_recf)"
   ]
  },
  {
   "cell_type": "code",
   "execution_count": 34,
   "id": "meaningful-italy",
   "metadata": {},
   "outputs": [
    {
     "name": "stdout",
     "output_type": "stream",
     "text": [
      "Desicion Tree Accuracy after appliying polynomial feafures with degree 2 : 77.47 %\n",
      "Desicion Tree Accuracy after appliying polynomial feafures with degree 3 : 77.155 %\n",
      "Desicion Tree Accuracy after appliying polynomial feafures with degree 4 : 77.218 %\n"
     ]
    }
   ],
   "source": [
    "clf = RandomForestClassifier(n_estimators = 160 , min_samples_split = 190, random_state = 16)\n",
    "clf.fit(X_train_poly2, y_train)\n",
    "y_predict = clf.predict(X_test_poly2)\n",
    "accuracy_poly2 = round(accuracy_score(y_test, y_predict)*100,3)\n",
    "print(f'Desicion Tree Accuracy after appliying polynomial feafures with degree 2 : {accuracy_poly2 } %') \n",
    "Accuracies['2 Degree Construction'] = accuracy_poly2\n",
    "\n",
    "clf = RandomForestClassifier(n_estimators = 160 , min_samples_split = 190, random_state = 17)\n",
    "clf.fit(X_train_poly3, y_train)\n",
    "y_predict = clf.predict(X_test_poly3)\n",
    "accuracy_poly3 = round(accuracy_score(y_test, y_predict)*100,3)\n",
    "print(f'Desicion Tree Accuracy after appliying polynomial feafures with degree 3 : {accuracy_poly3 } %')\n",
    "Accuracies['3 Degree Construction'] = accuracy_poly3\n",
    "\n",
    "clf = RandomForestClassifier(n_estimators = 160 , min_samples_split = 190, random_state = 18)\n",
    "clf.fit(X_train_poly4, y_train)\n",
    "y_predict = clf.predict(X_test_poly4)\n",
    "accuracy_poly4 = round(accuracy_score(y_test, y_predict)*100,3)\n",
    "print(f'Desicion Tree Accuracy after appliying polynomial feafures with degree 4 : {accuracy_poly4 } %') \n",
    "Accuracies['4 Degree Construction'] = accuracy_poly4"
   ]
  },
  {
   "cell_type": "markdown",
   "id": "cfabb81b",
   "metadata": {},
   "source": [
    "Surprisingly, here there was some improvement over the accuracy. The score went up from 77.03 to 77.47% when creating more features using 2th polynomial. "
   ]
  },
  {
   "cell_type": "markdown",
   "id": "durable-lindsay",
   "metadata": {},
   "source": [
    "## 7. Feature Transformation"
   ]
  },
  {
   "cell_type": "markdown",
   "id": "thirty-state",
   "metadata": {},
   "source": [
    "#### Principal component analysis:"
   ]
  },
  {
   "cell_type": "code",
   "execution_count": 35,
   "id": "incorporate-blond",
   "metadata": {},
   "outputs": [],
   "source": [
    "def pca_accuracies(ncomponents, X_train, X_test, y_train, y_test, algorithm):\n",
    "    components = range(1,ncomponents+1)\n",
    "    accuracy_pca = []\n",
    "    for c in components:\n",
    "        pca = PCA(n_components=c)\n",
    "        pca.fit(X_train)\n",
    "        X_train_pca = pca.transform(X_train) \n",
    "        X_test_pca = pca.transform(X_test)\n",
    "        clf = algorithm\n",
    "        clf.fit(X_train_pca, y_train)\n",
    "        y_predict = clf.predict(X_test_pca)\n",
    "        accuracy_pca.append(round(accuracy_score(y_test, y_predict)*100,3))\n",
    "\n",
    "    plt.plot(components, accuracy_pca, linestyle ='dashed', marker = 'o', color = 'purple') \n",
    "    plt.xticks(components)\n",
    "    plt.title('Number of components vs Accuracy')\n",
    "    plt.xlabel('Number of Components')\n",
    "    plt.ylabel('Accuracy (in percentage)')\n",
    "\n",
    "    plt.show()"
   ]
  },
  {
   "cell_type": "code",
   "execution_count": 36,
   "id": "offshore-divide",
   "metadata": {},
   "outputs": [
    {
     "data": {
      "image/png": "[encoded data removed]",
      "text/plain": [
       "<Figure size 576x396 with 1 Axes>"
      ]
     },
     "metadata": {},
     "output_type": "display_data"
    }
   ],
   "source": [
    "pca_accuracies(10,X_train, X_test, y_train, y_test, RandomForestClassifier(n_estimators = 120 , min_samples_split = 190, random_state = 19))"
   ]
  },
  {
   "cell_type": "markdown",
   "id": "5c02976c",
   "metadata": {},
   "source": [
    "Optimal Number of components: 10"
   ]
  },
  {
   "cell_type": "code",
   "execution_count": 37,
   "id": "primary-contamination",
   "metadata": {},
   "outputs": [],
   "source": [
    "pca = PCA(n_components=10)\n",
    "pca.fit(X_train)\n",
    "X_train_pca = pca.transform(X_train) \n",
    "X_test_pca = pca.transform(X_test) "
   ]
  },
  {
   "cell_type": "markdown",
   "id": "computational-watson",
   "metadata": {},
   "source": [
    "#### Linear Discriminant Analysis:"
   ]
  },
  {
   "cell_type": "code",
   "execution_count": 38,
   "id": "alive-international",
   "metadata": {},
   "outputs": [],
   "source": [
    "def lda(x_train,x_test, y_train, y_test, algorithm):\n",
    "    lda = LinearDiscriminantAnalysis(n_components=2)\n",
    "    lda.fit(x_train, y_train)\n",
    "    x_train = lda.transform(x_train) \n",
    "    x_test = lda.transform(x_test)\n",
    "    tree = algorithm\n",
    "    tree.fit(x_train, y_train)\n",
    "    y_predict = tree.predict(x_test)\n",
    "    accuracy_lda = round(accuracy_score(y_test, y_predict)*100,3)\n",
    "    return accuracy_lda"
   ]
  },
  {
   "cell_type": "code",
   "execution_count": 39,
   "id": "finite-warrant",
   "metadata": {},
   "outputs": [
    {
     "name": "stdout",
     "output_type": "stream",
     "text": [
      "Decision Tree Accuracy after using lda from from pca : 75.205 %\n"
     ]
    }
   ],
   "source": [
    "# using linear discriminant analysis with results from one component PCA\n",
    "\n",
    "print(f'Decision Tree Accuracy after using lda from from pca : {lda(X_train_pca,X_test_pca, y_train, y_test, RandomForestClassifier(n_estimators = 120 , min_samples_split = 190, random_state = 20))} %')\n",
    "Accuracies['PCA\\LDA'] = lda(X_train_pca,X_test_pca, y_train, y_test, RandomForestClassifier(n_estimators = 120 , min_samples_split = 190, random_state = 11))"
   ]
  },
  {
   "cell_type": "code",
   "execution_count": 40,
   "id": "7f0fe011",
   "metadata": {},
   "outputs": [
    {
     "name": "stdout",
     "output_type": "stream",
     "text": [
      "Decision Tree Accuracy after using lda from recursive feature elimination : 77.03 %\n"
     ]
    }
   ],
   "source": [
    "print(f'Decision Tree Accuracy after using lda from recursive feature elimination : {lda(X_train_recf,X_test_recf, y_train, y_test, RandomForestClassifier(n_estimators = 120 , min_samples_split = 190))} %') \n",
    "Accuracies['RECFE\\LDA'] = lda(X_train_recf,X_test_recf, y_train, y_test, RandomForestClassifier(n_estimators = 120 , min_samples_split = 190, random_state = 21))"
   ]
  },
  {
   "cell_type": "code",
   "execution_count": 41,
   "id": "6d0ebbf7",
   "metadata": {},
   "outputs": [
    {
     "name": "stdout",
     "output_type": "stream",
     "text": [
      "Decision Tree Accuracy after using lda from recursive feature elimination and second degree polynomial : 77.47 %\n"
     ]
    }
   ],
   "source": [
    "print(f'Decision Tree Accuracy after using lda from recursive feature elimination and second degree polynomial : {lda(X_train_recf,X_test_recf, y_train, y_test, RandomForestClassifier(n_estimators = 120 , min_samples_split = 190))} %') \n",
    "Accuracies['RECFE/LDA/Second Degree'] = lda(X_train_poly2,X_test_poly2, y_train, y_test, RandomForestClassifier(n_estimators = 120 , min_samples_split = 190, random_state = 30))"
   ]
  },
  {
   "cell_type": "markdown",
   "id": "65dabd76",
   "metadata": {},
   "source": [
    "Accuracy managed to be very high when using linear discriminant analysis with recursive feature elimination but it was not the highest"
   ]
  },
  {
   "cell_type": "markdown",
   "id": "geological-cause",
   "metadata": {},
   "source": [
    "## 8 Feature Learning:\n",
    "\n",
    "The Technique that will be used here is Bernoulli Restricted Boltzmann Machine (RBM)"
   ]
  },
  {
   "cell_type": "code",
   "execution_count": 42,
   "id": "liberal-discharge",
   "metadata": {},
   "outputs": [],
   "source": [
    "def rbm(x_train,x_test, y_train, y_test, algorithm, n_iter = 100, n_components = 256, learning_rate=0.5):\n",
    "    rmb = BernoulliRBM(random_state = 10, n_iter = n_iter, n_components = n_components, learning_rate = learning_rate)\n",
    "    rmb.fit(x_train)\n",
    "    x_train_r = rmb.transform(x_train) \n",
    "    x_test_r = rmb.transform(x_test)\n",
    "    clf = algorithm\n",
    "    clf.fit(x_train_r, y_train)\n",
    "    y_predict = clf.predict(x_test_r)\n",
    "    accuracy_rbm = round(accuracy_score(y_test, y_predict)*100,3)\n",
    "    print(f\"Accurary for {algorithm}: {accuracy_rbm}\") \n",
    "    return accuracy_rbm\n",
    "\n",
    "# consulted: https://scikit-learn.org/stable/modules/generated/sklearn.neural_network.BernoulliRBM.html\n",
    "# Feature engeneering made easy"
   ]
  },
  {
   "cell_type": "code",
   "execution_count": 43,
   "id": "thorough-custody",
   "metadata": {},
   "outputs": [
    {
     "name": "stdout",
     "output_type": "stream",
     "text": [
      "Accurary for RandomForestClassifier(min_samples_split=190, n_estimators=120, random_state=22): 75.519\n"
     ]
    }
   ],
   "source": [
    "# Using PCA Results:\n",
    "rbm_pca = rbm(X_train_pca,X_test_pca, y_train, y_test,RandomForestClassifier(n_estimators = 120 , min_samples_split = 190, random_state = 22))\n",
    "Accuracies['RBM\\PCA'] = rbm_pca"
   ]
  },
  {
   "cell_type": "code",
   "execution_count": 44,
   "id": "electric-professor",
   "metadata": {},
   "outputs": [
    {
     "name": "stdout",
     "output_type": "stream",
     "text": [
      "Accurary for RandomForestClassifier(min_samples_split=190, n_estimators=120, random_state=23): 75.519\n"
     ]
    }
   ],
   "source": [
    "# Using Recursive Feature Elimination Results:\n",
    "rbm_recv = rbm(X_train_recf,X_test_recf, y_train, y_test,RandomForestClassifier(n_estimators = 120 , min_samples_split = 190, random_state = 23))\n",
    "Accuracies['RBM\\RECFE'] = rbm_recv"
   ]
  },
  {
   "cell_type": "code",
   "execution_count": null,
   "id": "e6820b12",
   "metadata": {},
   "outputs": [],
   "source": []
  },
  {
   "cell_type": "markdown",
   "id": "8ba15df4",
   "metadata": {},
   "source": [
    "### Summary:\n",
    "    \n",
    "Overall accuracy managed to improve from 76.652% to 78.351% not including label reasingment. This improvement was only 1.7% but it was slightly higher than the increase in overall accuracy from the previous model. In both cases, recursive feature elimination proved to have the best overall performance across models.\n",
    "\n"
   ]
  },
  {
   "cell_type": "code",
   "execution_count": 45,
   "id": "97c8bf8c",
   "metadata": {},
   "outputs": [],
   "source": [
    "def accuracy_ranking(techniques, accuracies, algorithm, color = \"flare\"):\n",
    "    \n",
    "    data = {'Techniques': techniques, 'Accuracies': accuracies}\n",
    "    data_alg = pd.DataFrame(data = data)\n",
    "    data_alg = round(data_alg.sort_values(by = ['Accuracies']),3)\n",
    "    #plt.bar(data_knn['Techniques'],data_knn['Accuracies'], color = 'green' )\n",
    "    \n",
    "    ax = sns.barplot(x='Techniques', y='Accuracies', palette= color, data = data_alg)\n",
    "    plt.title(f'Performance ranking of {algorithm} algorithm with different feature engineering techniques')\n",
    "    plt.xticks(rotation = 90)\n",
    "    plt.ylabel('Accuracies After Class Reassing(percentage)')\n",
    "    plt.xlabel('Techniques')\n",
    "    plt.ylim([0,80])\n",
    "    plt.show()\n",
    "    return data_alg\n",
    "# https://pandas.pydata.org/docs/reference/api/pandas.DataFrame.sort_values.html\n",
    "# https://stackabuse.com/rotate-axis-labels-in-matplotlib/\n",
    "# https://stackabuse.com/how-to-set-axis-range-xlim-ylim-in-matplotlib/\n",
    "# https://stackoverflow.com/questions/53577630/how-to-make-pareto-chart-in-python\n",
    "# https://www.geeksforgeeks.org/rotate-axis-tick-labels-in-seaborn-and-matplotlib/\n",
    "# https://seaborn.pydata.org/generated/seaborn.barplot.html\n",
    "# https://seaborn.pydata.org/generated/seaborn.color_palette.html"
   ]
  },
  {
   "cell_type": "code",
   "execution_count": 46,
   "id": "ecfb259a",
   "metadata": {
    "scrolled": true
   },
   "outputs": [
    {
     "data": {
      "image/png": "[encoded data removed]",
      "text/plain": [
       "<Figure size 576x396 with 1 Axes>"
      ]
     },
     "metadata": {},
     "output_type": "display_data"
    },
    {
     "data": {
      "text/html": [
       "<div>\n",
       "<style scoped>\n",
       "    .dataframe tbody tr th:only-of-type {\n",
       "        vertical-align: middle;\n",
       "    }\n",
       "\n",
       "    .dataframe tbody tr th {\n",
       "        vertical-align: top;\n",
       "    }\n",
       "\n",
       "    .dataframe thead th {\n",
       "        text-align: right;\n",
       "    }\n",
       "</style>\n",
       "<table border=\"1\" class=\"dataframe\">\n",
       "  <thead>\n",
       "    <tr style=\"text-align: right;\">\n",
       "      <th></th>\n",
       "      <th>Techniques</th>\n",
       "      <th>Accuracies</th>\n",
       "    </tr>\n",
       "  </thead>\n",
       "  <tbody>\n",
       "    <tr>\n",
       "      <th>0</th>\n",
       "      <td>Without Class Reassign</td>\n",
       "      <td>54.437</td>\n",
       "    </tr>\n",
       "    <tr>\n",
       "      <th>9</th>\n",
       "      <td>RBM\\PCA</td>\n",
       "      <td>75.519</td>\n",
       "    </tr>\n",
       "    <tr>\n",
       "      <th>10</th>\n",
       "      <td>RBM\\RECFE</td>\n",
       "      <td>75.519</td>\n",
       "    </tr>\n",
       "    <tr>\n",
       "      <th>6</th>\n",
       "      <td>PCA\\LDA</td>\n",
       "      <td>75.708</td>\n",
       "    </tr>\n",
       "    <tr>\n",
       "      <th>1</th>\n",
       "      <td>Class Reassign</td>\n",
       "      <td>76.652</td>\n",
       "    </tr>\n",
       "    <tr>\n",
       "      <th>2</th>\n",
       "      <td>RECFE</td>\n",
       "      <td>77.030</td>\n",
       "    </tr>\n",
       "    <tr>\n",
       "      <th>4</th>\n",
       "      <td>3 Degree Construction</td>\n",
       "      <td>77.155</td>\n",
       "    </tr>\n",
       "    <tr>\n",
       "      <th>7</th>\n",
       "      <td>RECFE\\LDA</td>\n",
       "      <td>77.155</td>\n",
       "    </tr>\n",
       "    <tr>\n",
       "      <th>5</th>\n",
       "      <td>4 Degree Construction</td>\n",
       "      <td>77.218</td>\n",
       "    </tr>\n",
       "    <tr>\n",
       "      <th>8</th>\n",
       "      <td>RECFE/LDA/Second Degree</td>\n",
       "      <td>77.344</td>\n",
       "    </tr>\n",
       "    <tr>\n",
       "      <th>3</th>\n",
       "      <td>2 Degree Construction</td>\n",
       "      <td>77.470</td>\n",
       "    </tr>\n",
       "  </tbody>\n",
       "</table>\n",
       "</div>"
      ],
      "text/plain": [
       "                 Techniques  Accuracies\n",
       "0    Without Class Reassign      54.437\n",
       "9                   RBM\\PCA      75.519\n",
       "10                RBM\\RECFE      75.519\n",
       "6                   PCA\\LDA      75.708\n",
       "1            Class Reassign      76.652\n",
       "2                     RECFE      77.030\n",
       "4     3 Degree Construction      77.155\n",
       "7                 RECFE\\LDA      77.155\n",
       "5     4 Degree Construction      77.218\n",
       "8   RECFE/LDA/Second Degree      77.344\n",
       "3     2 Degree Construction      77.470"
      ]
     },
     "execution_count": 46,
     "metadata": {},
     "output_type": "execute_result"
    }
   ],
   "source": [
    "accuracy_ranking(list(Accuracies.keys()),list(Accuracies.values()), 'Random Forest', color = 'rocket')"
   ]
  },
  {
   "attachments": {},
   "cell_type": "markdown",
   "id": "ba8f15c8",
   "metadata": {},
   "source": [
    "In this example, the accuracy managed to improve a little more than for the Insurance Dataset. The improvement it is almost two points. This could seem slow and non-significant, but, random seed was different every time that a new feature engineering techniques was implemented.\n",
    "\n"
   ]
  },
  {
   "attachments": {},
   "cell_type": "markdown",
   "id": "3f1750bd",
   "metadata": {},
   "source": [
    "## Additional References\n",
    "\n",
    "https://www.kaggle.com/rajyellow46/wine-quality\n",
    "\n",
    "https://matplotlib.org/3.1.1/api/pyplot_summary.html\n",
    "\n",
    "https://matplotlib.org/stable/api/_as_gen/matplotlib.pyplot.plot.html\n",
    "\n",
    "https://www.kite.com/python/docs/numpy.around\n",
    "\n",
    "https://www.kaggle.com/ckoushik2805/winequality-classification-model-95-accuracy\n",
    "\n"
   ]
  },
  {
   "cell_type": "code",
   "execution_count": null,
   "id": "c4cea903",
   "metadata": {},
   "outputs": [],
   "source": []
  }
 ],
 "metadata": {
  "kernelspec": {
   "display_name": "Python 3",
   "language": "python",
   "name": "python3"
  },
  "language_info": {
   "codemirror_mode": {
    "name": "ipython",
    "version": 3
   },
   "file_extension": ".py",
   "mimetype": "text/x-python",
   "name": "python",
   "nbconvert_exporter": "python",
   "pygments_lexer": "ipython3",
   "version": "3.9.2"
  }
 },
 "nbformat": 4,
 "nbformat_minor": 5
}
